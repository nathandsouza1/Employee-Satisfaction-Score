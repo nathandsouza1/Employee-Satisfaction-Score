{
  "cells": [
    {
      "cell_type": "markdown",
      "metadata": {
        "id": "view-in-github",
        "colab_type": "text"
      },
      "source": [
        "<a href=\"https://colab.research.google.com/github/nathandsouza1/Employee-Satisfaction-Score/blob/main/Another_copy_of_HR_data.ipynb\" target=\"_parent\"><img src=\"https://colab.research.google.com/assets/colab-badge.svg\" alt=\"Open In Colab\"/></a>"
      ]
    },
    {
      "cell_type": "markdown",
      "source": [
        "# data for hr"
      ],
      "metadata": {
        "id": "zI_9wNwfUCmW"
      }
    },
    {
      "cell_type": "code",
      "source": [
        "#DCOVA and I\n",
        "###D - define - Which variables affected the Job Satisfaction Score, and how much did it affect it?\n",
        "#Data is very small, we might have to create a bigger sample dataset\n",
        "###C - collect - No other datasets given\n",
        "###O - organize -\n",
        "#Missing values: none\n",
        "#Derived variables: no\n",
        "#Outliers: none\n",
        "#Dummy variables: department categories\n",
        "###V - visualize - We made graphs, and scatter plots\n",
        "###A - analyze -\n",
        "#Correlation: Between variables and Job Satisfaction score\n",
        "#Heat maps: Easy interpretation\n",
        "#Linear regression: we made linear regression graphs and equations for both datasets\n",
        "###I - insights\n",
        "#Are the datasets similar\n",
        "#Which of the equations are better\n",
        "#What is the difference between the equations\n"
      ],
      "metadata": {
        "id": "h32rIlcM4wpY"
      },
      "execution_count": null,
      "outputs": []
    },
    {
      "cell_type": "code",
      "source": [
        "import pandas as pd"
      ],
      "metadata": {
        "id": "i20H2dQWUQNI"
      },
      "execution_count": null,
      "outputs": []
    },
    {
      "cell_type": "code",
      "source": [
        "from google.colab import drive\n",
        "drive.mount('/content/drive')\n",
        "hrdata = pd.read_csv(r'/content/drive/MyDrive/Colab Notebooks/data for hr .csv')"
      ],
      "metadata": {
        "id": "Hkbf9d9hUo31",
        "colab": {
          "base_uri": "https://localhost:8080/"
        },
        "outputId": "17ab8459-d617-4566-e1f2-ed9ee286282e"
      },
      "execution_count": null,
      "outputs": [
        {
          "output_type": "stream",
          "name": "stdout",
          "text": [
            "Mounted at /content/drive\n"
          ]
        }
      ]
    },
    {
      "cell_type": "code",
      "source": [
        "hrdata.info()"
      ],
      "metadata": {
        "id": "nVuNhiVoWGhm",
        "outputId": "02eb9403-cbf2-41e7-877a-f91a60c5ef49",
        "colab": {
          "base_uri": "https://localhost:8080/"
        }
      },
      "execution_count": null,
      "outputs": [
        {
          "output_type": "stream",
          "name": "stdout",
          "text": [
            "<class 'pandas.core.frame.DataFrame'>\n",
            "RangeIndex: 999 entries, 0 to 998\n",
            "Data columns (total 6 columns):\n",
            " #   Column                         Non-Null Count  Dtype  \n",
            "---  ------                         --------------  -----  \n",
            " 0   Employee ID                    20 non-null     float64\n",
            " 1   Department                     20 non-null     object \n",
            " 2   Tenure (Years)                 20 non-null     float64\n",
            " 3   Age                            20 non-null     float64\n",
            " 4   Job Satisfaction Score (1-10)  20 non-null     float64\n",
            " 5   Training Hours (Past Year)     20 non-null     float64\n",
            "dtypes: float64(5), object(1)\n",
            "memory usage: 47.0+ KB\n"
          ]
        }
      ]
    },
    {
      "cell_type": "code",
      "source": [
        "hrdata.head()"
      ],
      "metadata": {
        "id": "UGgu0zAbWgJu",
        "outputId": "41440020-82b1-4df4-8701-6d93e445468d",
        "colab": {
          "base_uri": "https://localhost:8080/",
          "height": 206
        }
      },
      "execution_count": null,
      "outputs": [
        {
          "output_type": "execute_result",
          "data": {
            "text/plain": [
              "   Employee ID  Department  Tenure (Years)   Age  \\\n",
              "0          1.0   Marketing             2.0  28.0   \n",
              "1          2.0       Sales             5.0  35.0   \n",
              "2          3.0     Finance             1.0  22.0   \n",
              "3          4.0  Operations             7.0  42.0   \n",
              "4          5.0          IT             3.0  30.0   \n",
              "\n",
              "   Job Satisfaction Score (1-10)  Training Hours (Past Year)  \n",
              "0                            7.0                        20.0  \n",
              "1                            8.0                        40.0  \n",
              "2                            6.0                        10.0  \n",
              "3                            9.0                        30.0  \n",
              "4                            5.0                        25.0  "
            ],
            "text/html": [
              "\n",
              "  <div id=\"df-77420696-ac43-49a4-be56-f7a7dd71b5f5\" class=\"colab-df-container\">\n",
              "    <div>\n",
              "<style scoped>\n",
              "    .dataframe tbody tr th:only-of-type {\n",
              "        vertical-align: middle;\n",
              "    }\n",
              "\n",
              "    .dataframe tbody tr th {\n",
              "        vertical-align: top;\n",
              "    }\n",
              "\n",
              "    .dataframe thead th {\n",
              "        text-align: right;\n",
              "    }\n",
              "</style>\n",
              "<table border=\"1\" class=\"dataframe\">\n",
              "  <thead>\n",
              "    <tr style=\"text-align: right;\">\n",
              "      <th></th>\n",
              "      <th>Employee ID</th>\n",
              "      <th>Department</th>\n",
              "      <th>Tenure (Years)</th>\n",
              "      <th>Age</th>\n",
              "      <th>Job Satisfaction Score (1-10)</th>\n",
              "      <th>Training Hours (Past Year)</th>\n",
              "    </tr>\n",
              "  </thead>\n",
              "  <tbody>\n",
              "    <tr>\n",
              "      <th>0</th>\n",
              "      <td>1.0</td>\n",
              "      <td>Marketing</td>\n",
              "      <td>2.0</td>\n",
              "      <td>28.0</td>\n",
              "      <td>7.0</td>\n",
              "      <td>20.0</td>\n",
              "    </tr>\n",
              "    <tr>\n",
              "      <th>1</th>\n",
              "      <td>2.0</td>\n",
              "      <td>Sales</td>\n",
              "      <td>5.0</td>\n",
              "      <td>35.0</td>\n",
              "      <td>8.0</td>\n",
              "      <td>40.0</td>\n",
              "    </tr>\n",
              "    <tr>\n",
              "      <th>2</th>\n",
              "      <td>3.0</td>\n",
              "      <td>Finance</td>\n",
              "      <td>1.0</td>\n",
              "      <td>22.0</td>\n",
              "      <td>6.0</td>\n",
              "      <td>10.0</td>\n",
              "    </tr>\n",
              "    <tr>\n",
              "      <th>3</th>\n",
              "      <td>4.0</td>\n",
              "      <td>Operations</td>\n",
              "      <td>7.0</td>\n",
              "      <td>42.0</td>\n",
              "      <td>9.0</td>\n",
              "      <td>30.0</td>\n",
              "    </tr>\n",
              "    <tr>\n",
              "      <th>4</th>\n",
              "      <td>5.0</td>\n",
              "      <td>IT</td>\n",
              "      <td>3.0</td>\n",
              "      <td>30.0</td>\n",
              "      <td>5.0</td>\n",
              "      <td>25.0</td>\n",
              "    </tr>\n",
              "  </tbody>\n",
              "</table>\n",
              "</div>\n",
              "    <div class=\"colab-df-buttons\">\n",
              "\n",
              "  <div class=\"colab-df-container\">\n",
              "    <button class=\"colab-df-convert\" onclick=\"convertToInteractive('df-77420696-ac43-49a4-be56-f7a7dd71b5f5')\"\n",
              "            title=\"Convert this dataframe to an interactive table.\"\n",
              "            style=\"display:none;\">\n",
              "\n",
              "  <svg xmlns=\"http://www.w3.org/2000/svg\" height=\"24px\" viewBox=\"0 -960 960 960\">\n",
              "    <path d=\"M120-120v-720h720v720H120Zm60-500h600v-160H180v160Zm220 220h160v-160H400v160Zm0 220h160v-160H400v160ZM180-400h160v-160H180v160Zm440 0h160v-160H620v160ZM180-180h160v-160H180v160Zm440 0h160v-160H620v160Z\"/>\n",
              "  </svg>\n",
              "    </button>\n",
              "\n",
              "  <style>\n",
              "    .colab-df-container {\n",
              "      display:flex;\n",
              "      gap: 12px;\n",
              "    }\n",
              "\n",
              "    .colab-df-convert {\n",
              "      background-color: #E8F0FE;\n",
              "      border: none;\n",
              "      border-radius: 50%;\n",
              "      cursor: pointer;\n",
              "      display: none;\n",
              "      fill: #1967D2;\n",
              "      height: 32px;\n",
              "      padding: 0 0 0 0;\n",
              "      width: 32px;\n",
              "    }\n",
              "\n",
              "    .colab-df-convert:hover {\n",
              "      background-color: #E2EBFA;\n",
              "      box-shadow: 0px 1px 2px rgba(60, 64, 67, 0.3), 0px 1px 3px 1px rgba(60, 64, 67, 0.15);\n",
              "      fill: #174EA6;\n",
              "    }\n",
              "\n",
              "    .colab-df-buttons div {\n",
              "      margin-bottom: 4px;\n",
              "    }\n",
              "\n",
              "    [theme=dark] .colab-df-convert {\n",
              "      background-color: #3B4455;\n",
              "      fill: #D2E3FC;\n",
              "    }\n",
              "\n",
              "    [theme=dark] .colab-df-convert:hover {\n",
              "      background-color: #434B5C;\n",
              "      box-shadow: 0px 1px 3px 1px rgba(0, 0, 0, 0.15);\n",
              "      filter: drop-shadow(0px 1px 2px rgba(0, 0, 0, 0.3));\n",
              "      fill: #FFFFFF;\n",
              "    }\n",
              "  </style>\n",
              "\n",
              "    <script>\n",
              "      const buttonEl =\n",
              "        document.querySelector('#df-77420696-ac43-49a4-be56-f7a7dd71b5f5 button.colab-df-convert');\n",
              "      buttonEl.style.display =\n",
              "        google.colab.kernel.accessAllowed ? 'block' : 'none';\n",
              "\n",
              "      async function convertToInteractive(key) {\n",
              "        const element = document.querySelector('#df-77420696-ac43-49a4-be56-f7a7dd71b5f5');\n",
              "        const dataTable =\n",
              "          await google.colab.kernel.invokeFunction('convertToInteractive',\n",
              "                                                    [key], {});\n",
              "        if (!dataTable) return;\n",
              "\n",
              "        const docLinkHtml = 'Like what you see? Visit the ' +\n",
              "          '<a target=\"_blank\" href=https://colab.research.google.com/notebooks/data_table.ipynb>data table notebook</a>'\n",
              "          + ' to learn more about interactive tables.';\n",
              "        element.innerHTML = '';\n",
              "        dataTable['output_type'] = 'display_data';\n",
              "        await google.colab.output.renderOutput(dataTable, element);\n",
              "        const docLink = document.createElement('div');\n",
              "        docLink.innerHTML = docLinkHtml;\n",
              "        element.appendChild(docLink);\n",
              "      }\n",
              "    </script>\n",
              "  </div>\n",
              "\n",
              "\n",
              "<div id=\"df-f974a178-f54c-4e55-88e9-d758697bff2d\">\n",
              "  <button class=\"colab-df-quickchart\" onclick=\"quickchart('df-f974a178-f54c-4e55-88e9-d758697bff2d')\"\n",
              "            title=\"Suggest charts\"\n",
              "            style=\"display:none;\">\n",
              "\n",
              "<svg xmlns=\"http://www.w3.org/2000/svg\" height=\"24px\"viewBox=\"0 0 24 24\"\n",
              "     width=\"24px\">\n",
              "    <g>\n",
              "        <path d=\"M19 3H5c-1.1 0-2 .9-2 2v14c0 1.1.9 2 2 2h14c1.1 0 2-.9 2-2V5c0-1.1-.9-2-2-2zM9 17H7v-7h2v7zm4 0h-2V7h2v10zm4 0h-2v-4h2v4z\"/>\n",
              "    </g>\n",
              "</svg>\n",
              "  </button>\n",
              "\n",
              "<style>\n",
              "  .colab-df-quickchart {\n",
              "      --bg-color: #E8F0FE;\n",
              "      --fill-color: #1967D2;\n",
              "      --hover-bg-color: #E2EBFA;\n",
              "      --hover-fill-color: #174EA6;\n",
              "      --disabled-fill-color: #AAA;\n",
              "      --disabled-bg-color: #DDD;\n",
              "  }\n",
              "\n",
              "  [theme=dark] .colab-df-quickchart {\n",
              "      --bg-color: #3B4455;\n",
              "      --fill-color: #D2E3FC;\n",
              "      --hover-bg-color: #434B5C;\n",
              "      --hover-fill-color: #FFFFFF;\n",
              "      --disabled-bg-color: #3B4455;\n",
              "      --disabled-fill-color: #666;\n",
              "  }\n",
              "\n",
              "  .colab-df-quickchart {\n",
              "    background-color: var(--bg-color);\n",
              "    border: none;\n",
              "    border-radius: 50%;\n",
              "    cursor: pointer;\n",
              "    display: none;\n",
              "    fill: var(--fill-color);\n",
              "    height: 32px;\n",
              "    padding: 0;\n",
              "    width: 32px;\n",
              "  }\n",
              "\n",
              "  .colab-df-quickchart:hover {\n",
              "    background-color: var(--hover-bg-color);\n",
              "    box-shadow: 0 1px 2px rgba(60, 64, 67, 0.3), 0 1px 3px 1px rgba(60, 64, 67, 0.15);\n",
              "    fill: var(--button-hover-fill-color);\n",
              "  }\n",
              "\n",
              "  .colab-df-quickchart-complete:disabled,\n",
              "  .colab-df-quickchart-complete:disabled:hover {\n",
              "    background-color: var(--disabled-bg-color);\n",
              "    fill: var(--disabled-fill-color);\n",
              "    box-shadow: none;\n",
              "  }\n",
              "\n",
              "  .colab-df-spinner {\n",
              "    border: 2px solid var(--fill-color);\n",
              "    border-color: transparent;\n",
              "    border-bottom-color: var(--fill-color);\n",
              "    animation:\n",
              "      spin 1s steps(1) infinite;\n",
              "  }\n",
              "\n",
              "  @keyframes spin {\n",
              "    0% {\n",
              "      border-color: transparent;\n",
              "      border-bottom-color: var(--fill-color);\n",
              "      border-left-color: var(--fill-color);\n",
              "    }\n",
              "    20% {\n",
              "      border-color: transparent;\n",
              "      border-left-color: var(--fill-color);\n",
              "      border-top-color: var(--fill-color);\n",
              "    }\n",
              "    30% {\n",
              "      border-color: transparent;\n",
              "      border-left-color: var(--fill-color);\n",
              "      border-top-color: var(--fill-color);\n",
              "      border-right-color: var(--fill-color);\n",
              "    }\n",
              "    40% {\n",
              "      border-color: transparent;\n",
              "      border-right-color: var(--fill-color);\n",
              "      border-top-color: var(--fill-color);\n",
              "    }\n",
              "    60% {\n",
              "      border-color: transparent;\n",
              "      border-right-color: var(--fill-color);\n",
              "    }\n",
              "    80% {\n",
              "      border-color: transparent;\n",
              "      border-right-color: var(--fill-color);\n",
              "      border-bottom-color: var(--fill-color);\n",
              "    }\n",
              "    90% {\n",
              "      border-color: transparent;\n",
              "      border-bottom-color: var(--fill-color);\n",
              "    }\n",
              "  }\n",
              "</style>\n",
              "\n",
              "  <script>\n",
              "    async function quickchart(key) {\n",
              "      const quickchartButtonEl =\n",
              "        document.querySelector('#' + key + ' button');\n",
              "      quickchartButtonEl.disabled = true;  // To prevent multiple clicks.\n",
              "      quickchartButtonEl.classList.add('colab-df-spinner');\n",
              "      try {\n",
              "        const charts = await google.colab.kernel.invokeFunction(\n",
              "            'suggestCharts', [key], {});\n",
              "      } catch (error) {\n",
              "        console.error('Error during call to suggestCharts:', error);\n",
              "      }\n",
              "      quickchartButtonEl.classList.remove('colab-df-spinner');\n",
              "      quickchartButtonEl.classList.add('colab-df-quickchart-complete');\n",
              "    }\n",
              "    (() => {\n",
              "      let quickchartButtonEl =\n",
              "        document.querySelector('#df-f974a178-f54c-4e55-88e9-d758697bff2d button');\n",
              "      quickchartButtonEl.style.display =\n",
              "        google.colab.kernel.accessAllowed ? 'block' : 'none';\n",
              "    })();\n",
              "  </script>\n",
              "</div>\n",
              "    </div>\n",
              "  </div>\n"
            ],
            "application/vnd.google.colaboratory.intrinsic+json": {
              "type": "dataframe",
              "variable_name": "hrdata",
              "summary": "{\n  \"name\": \"hrdata\",\n  \"rows\": 999,\n  \"fields\": [\n    {\n      \"column\": \"Employee ID\",\n      \"properties\": {\n        \"dtype\": \"number\",\n        \"std\": 5.916079783099616,\n        \"min\": 1.0,\n        \"max\": 20.0,\n        \"num_unique_values\": 20,\n        \"samples\": [\n          1.0,\n          18.0,\n          16.0\n        ],\n        \"semantic_type\": \"\",\n        \"description\": \"\"\n      }\n    },\n    {\n      \"column\": \"Department\",\n      \"properties\": {\n        \"dtype\": \"category\",\n        \"num_unique_values\": 5,\n        \"samples\": [\n          \"Sales\",\n          \"IT\",\n          \"Finance\"\n        ],\n        \"semantic_type\": \"\",\n        \"description\": \"\"\n      }\n    },\n    {\n      \"column\": \"Tenure (Years)\",\n      \"properties\": {\n        \"dtype\": \"number\",\n        \"std\": 2.21002500581233,\n        \"min\": 1.0,\n        \"max\": 8.0,\n        \"num_unique_values\": 8,\n        \"samples\": [\n          5.0,\n          4.0,\n          2.0\n        ],\n        \"semantic_type\": \"\",\n        \"description\": \"\"\n      }\n    },\n    {\n      \"column\": \"Age\",\n      \"properties\": {\n        \"dtype\": \"number\",\n        \"std\": 7.4936815490047834,\n        \"min\": 22.0,\n        \"max\": 48.0,\n        \"num_unique_values\": 20,\n        \"samples\": [\n          28.0,\n          45.0,\n          31.0\n        ],\n        \"semantic_type\": \"\",\n        \"description\": \"\"\n      }\n    },\n    {\n      \"column\": \"Job Satisfaction Score (1-10)\",\n      \"properties\": {\n        \"dtype\": \"number\",\n        \"std\": 1.292692009559488,\n        \"min\": 5.0,\n        \"max\": 9.0,\n        \"num_unique_values\": 5,\n        \"samples\": [\n          8.0,\n          5.0,\n          6.0\n        ],\n        \"semantic_type\": \"\",\n        \"description\": \"\"\n      }\n    },\n    {\n      \"column\": \"Training Hours (Past Year)\",\n      \"properties\": {\n        \"dtype\": \"number\",\n        \"std\": 12.768794197697678,\n        \"min\": 10.0,\n        \"max\": 55.0,\n        \"num_unique_values\": 17,\n        \"samples\": [\n          20.0,\n          40.0,\n          35.0\n        ],\n        \"semantic_type\": \"\",\n        \"description\": \"\"\n      }\n    }\n  ]\n}"
            }
          },
          "metadata": {},
          "execution_count": 4
        }
      ]
    },
    {
      "cell_type": "code",
      "source": [
        "# Drop rows where all columns are blank\n",
        "hrdata.dropna(\n",
        "    axis=0,      # Specifies that rows will be considered for dropping\n",
        "    how='all',   # Change 'any' to 'all'\n",
        "    #thresh = 6, # Set thresh to the number of columns\n",
        "    subset=None,\n",
        "    inplace=True\n",
        ")\n",
        "hrdata.info()"
      ],
      "metadata": {
        "id": "hhv4WxvDcvJi",
        "outputId": "40baca8e-bbdc-481e-b77e-34b25bc605d6",
        "colab": {
          "base_uri": "https://localhost:8080/"
        }
      },
      "execution_count": null,
      "outputs": [
        {
          "output_type": "stream",
          "name": "stdout",
          "text": [
            "<class 'pandas.core.frame.DataFrame'>\n",
            "Index: 20 entries, 0 to 19\n",
            "Data columns (total 6 columns):\n",
            " #   Column                         Non-Null Count  Dtype  \n",
            "---  ------                         --------------  -----  \n",
            " 0   Employee ID                    20 non-null     float64\n",
            " 1   Department                     20 non-null     object \n",
            " 2   Tenure (Years)                 20 non-null     float64\n",
            " 3   Age                            20 non-null     float64\n",
            " 4   Job Satisfaction Score (1-10)  20 non-null     float64\n",
            " 5   Training Hours (Past Year)     20 non-null     float64\n",
            "dtypes: float64(5), object(1)\n",
            "memory usage: 1.1+ KB\n"
          ]
        }
      ]
    },
    {
      "cell_type": "code",
      "source": [
        "%pip install sweetviz"
      ],
      "metadata": {
        "id": "wPKZ803nXEWF",
        "outputId": "615a671d-820f-4033-d6b1-36baa40495ab",
        "colab": {
          "base_uri": "https://localhost:8080/"
        }
      },
      "execution_count": null,
      "outputs": [
        {
          "output_type": "stream",
          "name": "stdout",
          "text": [
            "Collecting sweetviz\n",
            "  Downloading sweetviz-2.3.1-py3-none-any.whl (15.1 MB)\n",
            "\u001b[2K     \u001b[90m━━━━━━━━━━━━━━━━━━━━━━━━━━━━━━━━━━━━━━━━\u001b[0m \u001b[32m15.1/15.1 MB\u001b[0m \u001b[31m28.5 MB/s\u001b[0m eta \u001b[36m0:00:00\u001b[0m\n",
            "\u001b[?25hRequirement already satisfied: pandas!=1.0.0,!=1.0.1,!=1.0.2,>=0.25.3 in /usr/local/lib/python3.10/dist-packages (from sweetviz) (2.0.3)\n",
            "Requirement already satisfied: numpy>=1.16.0 in /usr/local/lib/python3.10/dist-packages (from sweetviz) (1.25.2)\n",
            "Requirement already satisfied: matplotlib>=3.1.3 in /usr/local/lib/python3.10/dist-packages (from sweetviz) (3.7.1)\n",
            "Requirement already satisfied: tqdm>=4.43.0 in /usr/local/lib/python3.10/dist-packages (from sweetviz) (4.66.4)\n",
            "Requirement already satisfied: scipy>=1.3.2 in /usr/local/lib/python3.10/dist-packages (from sweetviz) (1.11.4)\n",
            "Requirement already satisfied: jinja2>=2.11.1 in /usr/local/lib/python3.10/dist-packages (from sweetviz) (3.1.4)\n",
            "Requirement already satisfied: importlib-resources>=1.2.0 in /usr/local/lib/python3.10/dist-packages (from sweetviz) (6.4.0)\n",
            "Requirement already satisfied: MarkupSafe>=2.0 in /usr/local/lib/python3.10/dist-packages (from jinja2>=2.11.1->sweetviz) (2.1.5)\n",
            "Requirement already satisfied: contourpy>=1.0.1 in /usr/local/lib/python3.10/dist-packages (from matplotlib>=3.1.3->sweetviz) (1.2.1)\n",
            "Requirement already satisfied: cycler>=0.10 in /usr/local/lib/python3.10/dist-packages (from matplotlib>=3.1.3->sweetviz) (0.12.1)\n",
            "Requirement already satisfied: fonttools>=4.22.0 in /usr/local/lib/python3.10/dist-packages (from matplotlib>=3.1.3->sweetviz) (4.51.0)\n",
            "Requirement already satisfied: kiwisolver>=1.0.1 in /usr/local/lib/python3.10/dist-packages (from matplotlib>=3.1.3->sweetviz) (1.4.5)\n",
            "Requirement already satisfied: packaging>=20.0 in /usr/local/lib/python3.10/dist-packages (from matplotlib>=3.1.3->sweetviz) (24.0)\n",
            "Requirement already satisfied: pillow>=6.2.0 in /usr/local/lib/python3.10/dist-packages (from matplotlib>=3.1.3->sweetviz) (9.4.0)\n",
            "Requirement already satisfied: pyparsing>=2.3.1 in /usr/local/lib/python3.10/dist-packages (from matplotlib>=3.1.3->sweetviz) (3.1.2)\n",
            "Requirement already satisfied: python-dateutil>=2.7 in /usr/local/lib/python3.10/dist-packages (from matplotlib>=3.1.3->sweetviz) (2.8.2)\n",
            "Requirement already satisfied: pytz>=2020.1 in /usr/local/lib/python3.10/dist-packages (from pandas!=1.0.0,!=1.0.1,!=1.0.2,>=0.25.3->sweetviz) (2023.4)\n",
            "Requirement already satisfied: tzdata>=2022.1 in /usr/local/lib/python3.10/dist-packages (from pandas!=1.0.0,!=1.0.1,!=1.0.2,>=0.25.3->sweetviz) (2024.1)\n",
            "Requirement already satisfied: six>=1.5 in /usr/local/lib/python3.10/dist-packages (from python-dateutil>=2.7->matplotlib>=3.1.3->sweetviz) (1.16.0)\n",
            "Installing collected packages: sweetviz\n",
            "Successfully installed sweetviz-2.3.1\n"
          ]
        }
      ]
    },
    {
      "cell_type": "code",
      "source": [
        "import sweetviz"
      ],
      "metadata": {
        "id": "agw1lEW5XIFR"
      },
      "execution_count": null,
      "outputs": []
    },
    {
      "cell_type": "code",
      "source": [
        "hr_report = sweetviz.analyze([hrdata,\"Hr Data Characters\"])"
      ],
      "metadata": {
        "id": "is-68bz2XaFo",
        "outputId": "51b54dc1-bb3c-4a0a-b953-8493ab1e627a",
        "colab": {
          "base_uri": "https://localhost:8080/",
          "height": 49,
          "referenced_widgets": [
            "51881e0058354efa9e6d6f1c2d3341eb",
            "10cc9aa918a448c0b51f1038482ecec3",
            "f311db01a01245319601f28847f6654c",
            "2c40eca7a7d34e32b5dbe7c5dbb49b6a",
            "e174aa69c6b9409cae5c57f6e624b37f",
            "4daf8a0b648b42648084ecc4250bcca1",
            "73560f855a0b41ffb47e975d44c5685c",
            "43e35cb7fa334534b29ab1af1ff2af5c",
            "93bd460becf14574ab3ba4fa4ee7ffc0",
            "b4afb2aa6fe14f47be887049e73c289f",
            "d1eae426fa0844ca8162d633fdddd17e"
          ]
        }
      },
      "execution_count": null,
      "outputs": [
        {
          "output_type": "display_data",
          "data": {
            "text/plain": [
              "                                             |          | [  0%]   00:00 -> (? left)"
            ],
            "application/vnd.jupyter.widget-view+json": {
              "version_major": 2,
              "version_minor": 0,
              "model_id": "51881e0058354efa9e6d6f1c2d3341eb"
            }
          },
          "metadata": {}
        }
      ]
    },
    {
      "cell_type": "code",
      "source": [
        "hr_report.show_html(\"HrReport.html\")"
      ],
      "metadata": {
        "id": "2ufekqo_YDll",
        "outputId": "cb43fe00-9200-4e39-ea2e-234ec54abf47",
        "colab": {
          "base_uri": "https://localhost:8080/"
        }
      },
      "execution_count": null,
      "outputs": [
        {
          "output_type": "stream",
          "name": "stdout",
          "text": [
            "Report HrReport.html was generated! NOTEBOOK/COLAB USERS: the web browser MAY not pop up, regardless, the report IS saved in your notebook/colab files.\n"
          ]
        }
      ]
    },
    {
      "cell_type": "code",
      "source": [
        "#DCOVA & I\n",
        "\n",
        "# D -\n",
        "\n",
        "# C -\n",
        "\n",
        "# O -\n",
        "\n",
        "# V -\n",
        "\n",
        "# A -\n",
        "\n",
        "# I - Insights:\n",
        "#No missing values\n",
        "#No outliers\n",
        "#1 dummy variable - department\n",
        "#Don't need any derived variables\n",
        "#No one has given a satisfaction score of less than 5 or a 10."
      ],
      "metadata": {
        "id": "Pdw0we6wY-6F"
      },
      "execution_count": null,
      "outputs": []
    },
    {
      "cell_type": "code",
      "source": [
        "import matplotlib.pyplot as plt\n",
        "df=hrdata\n",
        "\n",
        "plt.scatter(df['Age'], df['Job Satisfaction Score (1-10)'])\n",
        "plt.title('Job Satisfaction vs Age')\n",
        "plt.xlabel('Age')\n",
        "plt.ylabel('Job Satisfaction Score (1-10)')\n",
        "plt.show()\n",
        "#As the age increases, the job satisfaction score seems to increases."
      ],
      "metadata": {
        "id": "-enWYKnciX7Y",
        "outputId": "9f63e65e-59d5-4bd2-9cb5-4ff8d2669e0a",
        "colab": {
          "base_uri": "https://localhost:8080/",
          "height": 466
        }
      },
      "execution_count": null,
      "outputs": [
        {
          "output_type": "display_data",
          "data": {
            "text/plain": [
              "<Figure size 640x480 with 1 Axes>"
            ],
            "image/png": "[encoded data removed]"
          },
          "metadata": {}
        }
      ]
    },
    {
      "cell_type": "code",
      "source": [
        "plt.scatter(df['Training Hours (Past Year)'], df['Job Satisfaction Score (1-10)'])\n",
        "plt.title('Job Satisfaction vs Training Hours')\n",
        "plt.xlabel('Training Hours (Past Year)')\n",
        "plt.ylabel('Job Satisfaction Score (1-10)')\n",
        "plt.show()\n",
        "#As training hours increase, job satisfaction seems to increases."
      ],
      "metadata": {
        "id": "HhmMAp69izNK",
        "outputId": "524cd0d5-a313-4031-c769-86b85b973a5a",
        "colab": {
          "base_uri": "https://localhost:8080/",
          "height": 467
        }
      },
      "execution_count": null,
      "outputs": [
        {
          "output_type": "display_data",
          "data": {
            "text/plain": [
              "<Figure size 640x480 with 1 Axes>"
            ],
            "image/png": "[encoded data removed]"
          },
          "metadata": {}
        }
      ]
    },
    {
      "cell_type": "code",
      "source": [
        "plt.scatter(df['Tenure (Years)'], df['Job Satisfaction Score (1-10)'])\n",
        "plt.title('Job Satisfaction vs Tenure (Years)')\n",
        "plt.xlabel('Tenure (Years)')\n",
        "plt.ylabel('Job Satisfaction Score (1-10)')\n",
        "plt.show()\n",
        "#As the tenure increases, the job satisfaction seems to increase."
      ],
      "metadata": {
        "id": "s3158fGRjtrO",
        "outputId": "1d17ab3c-aef5-40d2-c68d-9ead962e0082",
        "colab": {
          "base_uri": "https://localhost:8080/",
          "height": 468
        }
      },
      "execution_count": null,
      "outputs": [
        {
          "output_type": "display_data",
          "data": {
            "text/plain": [
              "<Figure size 640x480 with 1 Axes>"
            ],
            "image/png": "[encoded data removed]"
          },
          "metadata": {}
        }
      ]
    },
    {
      "cell_type": "code",
      "source": [
        "plt.scatter(df['Employee ID'], df['Job Satisfaction Score (1-10)'])\n",
        "plt.title('Job Satisfaction vs Employee ID')\n",
        "plt.xlabel('Employee ID')\n",
        "plt.ylabel('Job Satisfaction Score (1-10)')\n",
        "plt.show()\n",
        "#It seems like there is no correlation between the employee id and the job satisfaction score"
      ],
      "metadata": {
        "id": "klKmKhMRkcdR",
        "outputId": "9117b73d-78b9-4368-fbed-78abee175dd6",
        "colab": {
          "base_uri": "https://localhost:8080/",
          "height": 466
        }
      },
      "execution_count": null,
      "outputs": [
        {
          "output_type": "display_data",
          "data": {
            "text/plain": [
              "<Figure size 640x480 with 1 Axes>"
            ],
            "image/png": "[encoded data removed]"
          },
          "metadata": {}
        }
      ]
    },
    {
      "cell_type": "code",
      "source": [
        "plt.scatter(df['Department'], df['Job Satisfaction Score (1-10)'])\n",
        "plt.title('Department vs Employee ID')\n",
        "plt.xlabel('Department')\n",
        "plt.ylabel('Job Satisfaction Score (1-10)')\n",
        "plt.show()\n",
        "#It seems like there is no correlation between the employee id and the job satisfaction score"
      ],
      "metadata": {
        "colab": {
          "base_uri": "https://localhost:8080/",
          "height": 466
        },
        "id": "gqFQPC1yM23H",
        "outputId": "4b29d944-b7b8-4b34-8d69-053415f06a3e"
      },
      "execution_count": null,
      "outputs": [
        {
          "output_type": "display_data",
          "data": {
            "text/plain": [
              "<Figure size 640x480 with 1 Axes>"
            ],
            "image/png": "[encoded data removed]"
          },
          "metadata": {}
        }
      ]
    },
    {
      "cell_type": "code",
      "source": [
        "import pandas as pd\n",
        "import seaborn as sns\n",
        "import matplotlib.pyplot as plt\n",
        "\n",
        "# Assuming 'df' is your DataFrame containing the dataset\n",
        "\n",
        "# Selecting only the numeric columns\n",
        "numeric_df = df.select_dtypes(include=['int64', 'float64'])\n",
        "\n",
        "# Creating the heatmap\n",
        "dataplot = sns.heatmap(numeric_df.corr(), annot=True)\n",
        "\n",
        "# Displaying the heatmap\n",
        "plt.show()\n",
        "\n",
        "#Top 3 correlations to Job satisfaction score: Tenure(years), Age, Training Hours(past year)"
      ],
      "metadata": {
        "colab": {
          "base_uri": "https://localhost:8080/",
          "height": 565
        },
        "id": "pcjcosJN2l7q",
        "outputId": "5eaae281-4e86-4037-eb02-41cd16077927"
      },
      "execution_count": null,
      "outputs": [
        {
          "output_type": "display_data",
          "data": {
            "text/plain": [
              "<Figure size 640x480 with 2 Axes>"
            ],
            "image/png": "[encoded data removed]"
          },
          "metadata": {}
        }
      ]
    },
    {
      "cell_type": "code",
      "source": [
        "#create dummy variables for the department column:\n",
        "df2 = pd.get_dummies(df, columns=['Department'], drop_first=True, dtype=int)\n",
        "df2.head()"
      ],
      "metadata": {
        "colab": {
          "base_uri": "https://localhost:8080/",
          "height": 223
        },
        "id": "sri5DqR1pMRC",
        "outputId": "3b01df27-13d7-4dfe-bb77-1b26c8ef7052"
      },
      "execution_count": null,
      "outputs": [
        {
          "output_type": "execute_result",
          "data": {
            "text/plain": [
              "   Employee ID  Tenure (Years)   Age  Job Satisfaction Score (1-10)  \\\n",
              "0          1.0             2.0  28.0                            7.0   \n",
              "1          2.0             5.0  35.0                            8.0   \n",
              "2          3.0             1.0  22.0                            6.0   \n",
              "3          4.0             7.0  42.0                            9.0   \n",
              "4          5.0             3.0  30.0                            5.0   \n",
              "\n",
              "   Training Hours (Past Year)  Department_IT  Department_Marketing  \\\n",
              "0                        20.0              0                     1   \n",
              "1                        40.0              0                     0   \n",
              "2                        10.0              0                     0   \n",
              "3                        30.0              0                     0   \n",
              "4                        25.0              1                     0   \n",
              "\n",
              "   Department_Operations  Department_Sales  \n",
              "0                      0                 0  \n",
              "1                      0                 1  \n",
              "2                      0                 0  \n",
              "3                      1                 0  \n",
              "4                      0                 0  "
            ],
            "text/html": [
              "\n",
              "  <div id=\"df-a0035267-8bec-4b3a-9888-853e2421b04a\" class=\"colab-df-container\">\n",
              "    <div>\n",
              "<style scoped>\n",
              "    .dataframe tbody tr th:only-of-type {\n",
              "        vertical-align: middle;\n",
              "    }\n",
              "\n",
              "    .dataframe tbody tr th {\n",
              "        vertical-align: top;\n",
              "    }\n",
              "\n",
              "    .dataframe thead th {\n",
              "        text-align: right;\n",
              "    }\n",
              "</style>\n",
              "<table border=\"1\" class=\"dataframe\">\n",
              "  <thead>\n",
              "    <tr style=\"text-align: right;\">\n",
              "      <th></th>\n",
              "      <th>Employee ID</th>\n",
              "      <th>Tenure (Years)</th>\n",
              "      <th>Age</th>\n",
              "      <th>Job Satisfaction Score (1-10)</th>\n",
              "      <th>Training Hours (Past Year)</th>\n",
              "      <th>Department_IT</th>\n",
              "      <th>Department_Marketing</th>\n",
              "      <th>Department_Operations</th>\n",
              "      <th>Department_Sales</th>\n",
              "    </tr>\n",
              "  </thead>\n",
              "  <tbody>\n",
              "    <tr>\n",
              "      <th>0</th>\n",
              "      <td>1.0</td>\n",
              "      <td>2.0</td>\n",
              "      <td>28.0</td>\n",
              "      <td>7.0</td>\n",
              "      <td>20.0</td>\n",
              "      <td>0</td>\n",
              "      <td>1</td>\n",
              "      <td>0</td>\n",
              "      <td>0</td>\n",
              "    </tr>\n",
              "    <tr>\n",
              "      <th>1</th>\n",
              "      <td>2.0</td>\n",
              "      <td>5.0</td>\n",
              "      <td>35.0</td>\n",
              "      <td>8.0</td>\n",
              "      <td>40.0</td>\n",
              "      <td>0</td>\n",
              "      <td>0</td>\n",
              "      <td>0</td>\n",
              "      <td>1</td>\n",
              "    </tr>\n",
              "    <tr>\n",
              "      <th>2</th>\n",
              "      <td>3.0</td>\n",
              "      <td>1.0</td>\n",
              "      <td>22.0</td>\n",
              "      <td>6.0</td>\n",
              "      <td>10.0</td>\n",
              "      <td>0</td>\n",
              "      <td>0</td>\n",
              "      <td>0</td>\n",
              "      <td>0</td>\n",
              "    </tr>\n",
              "    <tr>\n",
              "      <th>3</th>\n",
              "      <td>4.0</td>\n",
              "      <td>7.0</td>\n",
              "      <td>42.0</td>\n",
              "      <td>9.0</td>\n",
              "      <td>30.0</td>\n",
              "      <td>0</td>\n",
              "      <td>0</td>\n",
              "      <td>1</td>\n",
              "      <td>0</td>\n",
              "    </tr>\n",
              "    <tr>\n",
              "      <th>4</th>\n",
              "      <td>5.0</td>\n",
              "      <td>3.0</td>\n",
              "      <td>30.0</td>\n",
              "      <td>5.0</td>\n",
              "      <td>25.0</td>\n",
              "      <td>1</td>\n",
              "      <td>0</td>\n",
              "      <td>0</td>\n",
              "      <td>0</td>\n",
              "    </tr>\n",
              "  </tbody>\n",
              "</table>\n",
              "</div>\n",
              "    <div class=\"colab-df-buttons\">\n",
              "\n",
              "  <div class=\"colab-df-container\">\n",
              "    <button class=\"colab-df-convert\" onclick=\"convertToInteractive('df-a0035267-8bec-4b3a-9888-853e2421b04a')\"\n",
              "            title=\"Convert this dataframe to an interactive table.\"\n",
              "            style=\"display:none;\">\n",
              "\n",
              "  <svg xmlns=\"http://www.w3.org/2000/svg\" height=\"24px\" viewBox=\"0 -960 960 960\">\n",
              "    <path d=\"M120-120v-720h720v720H120Zm60-500h600v-160H180v160Zm220 220h160v-160H400v160Zm0 220h160v-160H400v160ZM180-400h160v-160H180v160Zm440 0h160v-160H620v160ZM180-180h160v-160H180v160Zm440 0h160v-160H620v160Z\"/>\n",
              "  </svg>\n",
              "    </button>\n",
              "\n",
              "  <style>\n",
              "    .colab-df-container {\n",
              "      display:flex;\n",
              "      gap: 12px;\n",
              "    }\n",
              "\n",
              "    .colab-df-convert {\n",
              "      background-color: #E8F0FE;\n",
              "      border: none;\n",
              "      border-radius: 50%;\n",
              "      cursor: pointer;\n",
              "      display: none;\n",
              "      fill: #1967D2;\n",
              "      height: 32px;\n",
              "      padding: 0 0 0 0;\n",
              "      width: 32px;\n",
              "    }\n",
              "\n",
              "    .colab-df-convert:hover {\n",
              "      background-color: #E2EBFA;\n",
              "      box-shadow: 0px 1px 2px rgba(60, 64, 67, 0.3), 0px 1px 3px 1px rgba(60, 64, 67, 0.15);\n",
              "      fill: #174EA6;\n",
              "    }\n",
              "\n",
              "    .colab-df-buttons div {\n",
              "      margin-bottom: 4px;\n",
              "    }\n",
              "\n",
              "    [theme=dark] .colab-df-convert {\n",
              "      background-color: #3B4455;\n",
              "      fill: #D2E3FC;\n",
              "    }\n",
              "\n",
              "    [theme=dark] .colab-df-convert:hover {\n",
              "      background-color: #434B5C;\n",
              "      box-shadow: 0px 1px 3px 1px rgba(0, 0, 0, 0.15);\n",
              "      filter: drop-shadow(0px 1px 2px rgba(0, 0, 0, 0.3));\n",
              "      fill: #FFFFFF;\n",
              "    }\n",
              "  </style>\n",
              "\n",
              "    <script>\n",
              "      const buttonEl =\n",
              "        document.querySelector('#df-a0035267-8bec-4b3a-9888-853e2421b04a button.colab-df-convert');\n",
              "      buttonEl.style.display =\n",
              "        google.colab.kernel.accessAllowed ? 'block' : 'none';\n",
              "\n",
              "      async function convertToInteractive(key) {\n",
              "        const element = document.querySelector('#df-a0035267-8bec-4b3a-9888-853e2421b04a');\n",
              "        const dataTable =\n",
              "          await google.colab.kernel.invokeFunction('convertToInteractive',\n",
              "                                                    [key], {});\n",
              "        if (!dataTable) return;\n",
              "\n",
              "        const docLinkHtml = 'Like what you see? Visit the ' +\n",
              "          '<a target=\"_blank\" href=https://colab.research.google.com/notebooks/data_table.ipynb>data table notebook</a>'\n",
              "          + ' to learn more about interactive tables.';\n",
              "        element.innerHTML = '';\n",
              "        dataTable['output_type'] = 'display_data';\n",
              "        await google.colab.output.renderOutput(dataTable, element);\n",
              "        const docLink = document.createElement('div');\n",
              "        docLink.innerHTML = docLinkHtml;\n",
              "        element.appendChild(docLink);\n",
              "      }\n",
              "    </script>\n",
              "  </div>\n",
              "\n",
              "\n",
              "<div id=\"df-4b30a969-b060-40e2-be2c-d30238bdfe9a\">\n",
              "  <button class=\"colab-df-quickchart\" onclick=\"quickchart('df-4b30a969-b060-40e2-be2c-d30238bdfe9a')\"\n",
              "            title=\"Suggest charts\"\n",
              "            style=\"display:none;\">\n",
              "\n",
              "<svg xmlns=\"http://www.w3.org/2000/svg\" height=\"24px\"viewBox=\"0 0 24 24\"\n",
              "     width=\"24px\">\n",
              "    <g>\n",
              "        <path d=\"M19 3H5c-1.1 0-2 .9-2 2v14c0 1.1.9 2 2 2h14c1.1 0 2-.9 2-2V5c0-1.1-.9-2-2-2zM9 17H7v-7h2v7zm4 0h-2V7h2v10zm4 0h-2v-4h2v4z\"/>\n",
              "    </g>\n",
              "</svg>\n",
              "  </button>\n",
              "\n",
              "<style>\n",
              "  .colab-df-quickchart {\n",
              "      --bg-color: #E8F0FE;\n",
              "      --fill-color: #1967D2;\n",
              "      --hover-bg-color: #E2EBFA;\n",
              "      --hover-fill-color: #174EA6;\n",
              "      --disabled-fill-color: #AAA;\n",
              "      --disabled-bg-color: #DDD;\n",
              "  }\n",
              "\n",
              "  [theme=dark] .colab-df-quickchart {\n",
              "      --bg-color: #3B4455;\n",
              "      --fill-color: #D2E3FC;\n",
              "      --hover-bg-color: #434B5C;\n",
              "      --hover-fill-color: #FFFFFF;\n",
              "      --disabled-bg-color: #3B4455;\n",
              "      --disabled-fill-color: #666;\n",
              "  }\n",
              "\n",
              "  .colab-df-quickchart {\n",
              "    background-color: var(--bg-color);\n",
              "    border: none;\n",
              "    border-radius: 50%;\n",
              "    cursor: pointer;\n",
              "    display: none;\n",
              "    fill: var(--fill-color);\n",
              "    height: 32px;\n",
              "    padding: 0;\n",
              "    width: 32px;\n",
              "  }\n",
              "\n",
              "  .colab-df-quickchart:hover {\n",
              "    background-color: var(--hover-bg-color);\n",
              "    box-shadow: 0 1px 2px rgba(60, 64, 67, 0.3), 0 1px 3px 1px rgba(60, 64, 67, 0.15);\n",
              "    fill: var(--button-hover-fill-color);\n",
              "  }\n",
              "\n",
              "  .colab-df-quickchart-complete:disabled,\n",
              "  .colab-df-quickchart-complete:disabled:hover {\n",
              "    background-color: var(--disabled-bg-color);\n",
              "    fill: var(--disabled-fill-color);\n",
              "    box-shadow: none;\n",
              "  }\n",
              "\n",
              "  .colab-df-spinner {\n",
              "    border: 2px solid var(--fill-color);\n",
              "    border-color: transparent;\n",
              "    border-bottom-color: var(--fill-color);\n",
              "    animation:\n",
              "      spin 1s steps(1) infinite;\n",
              "  }\n",
              "\n",
              "  @keyframes spin {\n",
              "    0% {\n",
              "      border-color: transparent;\n",
              "      border-bottom-color: var(--fill-color);\n",
              "      border-left-color: var(--fill-color);\n",
              "    }\n",
              "    20% {\n",
              "      border-color: transparent;\n",
              "      border-left-color: var(--fill-color);\n",
              "      border-top-color: var(--fill-color);\n",
              "    }\n",
              "    30% {\n",
              "      border-color: transparent;\n",
              "      border-left-color: var(--fill-color);\n",
              "      border-top-color: var(--fill-color);\n",
              "      border-right-color: var(--fill-color);\n",
              "    }\n",
              "    40% {\n",
              "      border-color: transparent;\n",
              "      border-right-color: var(--fill-color);\n",
              "      border-top-color: var(--fill-color);\n",
              "    }\n",
              "    60% {\n",
              "      border-color: transparent;\n",
              "      border-right-color: var(--fill-color);\n",
              "    }\n",
              "    80% {\n",
              "      border-color: transparent;\n",
              "      border-right-color: var(--fill-color);\n",
              "      border-bottom-color: var(--fill-color);\n",
              "    }\n",
              "    90% {\n",
              "      border-color: transparent;\n",
              "      border-bottom-color: var(--fill-color);\n",
              "    }\n",
              "  }\n",
              "</style>\n",
              "\n",
              "  <script>\n",
              "    async function quickchart(key) {\n",
              "      const quickchartButtonEl =\n",
              "        document.querySelector('#' + key + ' button');\n",
              "      quickchartButtonEl.disabled = true;  // To prevent multiple clicks.\n",
              "      quickchartButtonEl.classList.add('colab-df-spinner');\n",
              "      try {\n",
              "        const charts = await google.colab.kernel.invokeFunction(\n",
              "            'suggestCharts', [key], {});\n",
              "      } catch (error) {\n",
              "        console.error('Error during call to suggestCharts:', error);\n",
              "      }\n",
              "      quickchartButtonEl.classList.remove('colab-df-spinner');\n",
              "      quickchartButtonEl.classList.add('colab-df-quickchart-complete');\n",
              "    }\n",
              "    (() => {\n",
              "      let quickchartButtonEl =\n",
              "        document.querySelector('#df-4b30a969-b060-40e2-be2c-d30238bdfe9a button');\n",
              "      quickchartButtonEl.style.display =\n",
              "        google.colab.kernel.accessAllowed ? 'block' : 'none';\n",
              "    })();\n",
              "  </script>\n",
              "</div>\n",
              "    </div>\n",
              "  </div>\n"
            ],
            "application/vnd.google.colaboratory.intrinsic+json": {
              "type": "dataframe",
              "variable_name": "df2",
              "summary": "{\n  \"name\": \"df2\",\n  \"rows\": 20,\n  \"fields\": [\n    {\n      \"column\": \"Employee ID\",\n      \"properties\": {\n        \"dtype\": \"number\",\n        \"std\": 5.916079783099616,\n        \"min\": 1.0,\n        \"max\": 20.0,\n        \"num_unique_values\": 20,\n        \"samples\": [\n          1.0,\n          18.0,\n          16.0\n        ],\n        \"semantic_type\": \"\",\n        \"description\": \"\"\n      }\n    },\n    {\n      \"column\": \"Tenure (Years)\",\n      \"properties\": {\n        \"dtype\": \"number\",\n        \"std\": 2.21002500581233,\n        \"min\": 1.0,\n        \"max\": 8.0,\n        \"num_unique_values\": 8,\n        \"samples\": [\n          5.0,\n          4.0,\n          2.0\n        ],\n        \"semantic_type\": \"\",\n        \"description\": \"\"\n      }\n    },\n    {\n      \"column\": \"Age\",\n      \"properties\": {\n        \"dtype\": \"number\",\n        \"std\": 7.4936815490047834,\n        \"min\": 22.0,\n        \"max\": 48.0,\n        \"num_unique_values\": 20,\n        \"samples\": [\n          28.0,\n          45.0,\n          31.0\n        ],\n        \"semantic_type\": \"\",\n        \"description\": \"\"\n      }\n    },\n    {\n      \"column\": \"Job Satisfaction Score (1-10)\",\n      \"properties\": {\n        \"dtype\": \"number\",\n        \"std\": 1.292692009559488,\n        \"min\": 5.0,\n        \"max\": 9.0,\n        \"num_unique_values\": 5,\n        \"samples\": [\n          8.0,\n          5.0,\n          6.0\n        ],\n        \"semantic_type\": \"\",\n        \"description\": \"\"\n      }\n    },\n    {\n      \"column\": \"Training Hours (Past Year)\",\n      \"properties\": {\n        \"dtype\": \"number\",\n        \"std\": 12.768794197697678,\n        \"min\": 10.0,\n        \"max\": 55.0,\n        \"num_unique_values\": 17,\n        \"samples\": [\n          20.0,\n          40.0,\n          35.0\n        ],\n        \"semantic_type\": \"\",\n        \"description\": \"\"\n      }\n    },\n    {\n      \"column\": \"Department_IT\",\n      \"properties\": {\n        \"dtype\": \"number\",\n        \"std\": 0,\n        \"min\": 0,\n        \"max\": 1,\n        \"num_unique_values\": 2,\n        \"samples\": [\n          1,\n          0\n        ],\n        \"semantic_type\": \"\",\n        \"description\": \"\"\n      }\n    },\n    {\n      \"column\": \"Department_Marketing\",\n      \"properties\": {\n        \"dtype\": \"number\",\n        \"std\": 0,\n        \"min\": 0,\n        \"max\": 1,\n        \"num_unique_values\": 2,\n        \"samples\": [\n          0,\n          1\n        ],\n        \"semantic_type\": \"\",\n        \"description\": \"\"\n      }\n    },\n    {\n      \"column\": \"Department_Operations\",\n      \"properties\": {\n        \"dtype\": \"number\",\n        \"std\": 0,\n        \"min\": 0,\n        \"max\": 1,\n        \"num_unique_values\": 2,\n        \"samples\": [\n          1,\n          0\n        ],\n        \"semantic_type\": \"\",\n        \"description\": \"\"\n      }\n    },\n    {\n      \"column\": \"Department_Sales\",\n      \"properties\": {\n        \"dtype\": \"number\",\n        \"std\": 0,\n        \"min\": 0,\n        \"max\": 1,\n        \"num_unique_values\": 2,\n        \"samples\": [\n          1,\n          0\n        ],\n        \"semantic_type\": \"\",\n        \"description\": \"\"\n      }\n    }\n  ]\n}"
            }
          },
          "metadata": {},
          "execution_count": 17
        }
      ]
    },
    {
      "cell_type": "code",
      "source": [
        "# Assuming 'df' is your DataFrame containing the dataset\n",
        "\n",
        "# Selecting only the numeric columns\n",
        "numeric_df2 = df2.select_dtypes(include=['int64', 'float64'])\n",
        "\n",
        "# Creating the heatmap\n",
        "dataplot = sns.heatmap(numeric_df2.corr(), annot=True)\n",
        "\n",
        "# Displaying the heatmap\n",
        "plt.show()\n",
        "\n",
        "#Added the department values\n",
        "#Department had very little correlation with the other subjects\n",
        "#Top 3 correlations are the same as before\n",
        "#Department doesn't make much of an impact"
      ],
      "metadata": {
        "colab": {
          "base_uri": "https://localhost:8080/",
          "height": 565
        },
        "id": "jmS-tOh4rGam",
        "outputId": "4acb8b19-4bf2-4824-e576-66c24b481f12"
      },
      "execution_count": null,
      "outputs": [
        {
          "output_type": "display_data",
          "data": {
            "text/plain": [
              "<Figure size 640x480 with 2 Axes>"
            ],
            "image/png": "[encoded data removed]"
          },
          "metadata": {}
        }
      ]
    },
    {
      "cell_type": "code",
      "source": [
        "correlation_matrix = numeric_df2.corr()\n",
        "print(correlation_matrix)"
      ],
      "metadata": {
        "colab": {
          "base_uri": "https://localhost:8080/"
        },
        "id": "Odk4JmqOsYgO",
        "outputId": "d6efca57-3629-4b84-d076-7d0b2ac883b6"
      },
      "execution_count": null,
      "outputs": [
        {
          "output_type": "stream",
          "name": "stdout",
          "text": [
            "                               Employee ID  Tenure (Years)       Age  \\\n",
            "Employee ID                       1.000000        0.036229  0.140681   \n",
            "Tenure (Years)                    0.036229        1.000000  0.945137   \n",
            "Age                               0.140681        0.945137  1.000000   \n",
            "Job Satisfaction Score (1-10)     0.024087        0.773755  0.762007   \n",
            "Training Hours (Past Year)        0.271723        0.902330  0.881123   \n",
            "Department_IT                     0.173422        0.324967  0.201946   \n",
            "Department_Marketing             -0.173422       -0.255331 -0.277248   \n",
            "Department_Operations             0.086711        0.034818  0.030805   \n",
            "Department_Sales                 -0.086711       -0.197301 -0.140335   \n",
            "\n",
            "                               Job Satisfaction Score (1-10)  \\\n",
            "Employee ID                                     2.408715e-02   \n",
            "Tenure (Years)                                  7.737549e-01   \n",
            "Age                                             7.620070e-01   \n",
            "Job Satisfaction Score (1-10)                   1.000000e+00   \n",
            "Training Hours (Past Year)                      7.254088e-01   \n",
            "Department_IT                                  -6.608679e-17   \n",
            "Department_Marketing                           -2.976284e-01   \n",
            "Department_Operations                           9.920947e-02   \n",
            "Department_Sales                                9.920947e-02   \n",
            "\n",
            "                               Training Hours (Past Year)  Department_IT  \\\n",
            "Employee ID                                      0.271723   1.734220e-01   \n",
            "Tenure (Years)                                   0.902330   3.249668e-01   \n",
            "Age                                              0.881123   2.019459e-01   \n",
            "Job Satisfaction Score (1-10)                    0.725409  -6.608679e-17   \n",
            "Training Hours (Past Year)                       1.000000   4.278661e-01   \n",
            "Department_IT                                    0.427866   1.000000e+00   \n",
            "Department_Marketing                            -0.255113  -2.500000e-01   \n",
            "Department_Operations                           -0.124543  -2.500000e-01   \n",
            "Department_Sales                                -0.114499  -2.500000e-01   \n",
            "\n",
            "                               Department_Marketing  Department_Operations  \\\n",
            "Employee ID                               -0.173422               0.086711   \n",
            "Tenure (Years)                            -0.255331               0.034818   \n",
            "Age                                       -0.277248               0.030805   \n",
            "Job Satisfaction Score (1-10)             -0.297628               0.099209   \n",
            "Training Hours (Past Year)                -0.255113              -0.124543   \n",
            "Department_IT                             -0.250000              -0.250000   \n",
            "Department_Marketing                       1.000000              -0.250000   \n",
            "Department_Operations                     -0.250000               1.000000   \n",
            "Department_Sales                          -0.250000              -0.250000   \n",
            "\n",
            "                               Department_Sales  \n",
            "Employee ID                           -0.086711  \n",
            "Tenure (Years)                        -0.197301  \n",
            "Age                                   -0.140335  \n",
            "Job Satisfaction Score (1-10)          0.099209  \n",
            "Training Hours (Past Year)            -0.114499  \n",
            "Department_IT                         -0.250000  \n",
            "Department_Marketing                  -0.250000  \n",
            "Department_Operations                 -0.250000  \n",
            "Department_Sales                       1.000000  \n"
          ]
        }
      ]
    },
    {
      "cell_type": "code",
      "source": [
        "from sklearn.model_selection import train_test_split\n",
        "from sklearn.linear_model import LinearRegression\n",
        "from sklearn.metrics import mean_squared_error"
      ],
      "metadata": {
        "id": "iH97gc6O5PeM"
      },
      "execution_count": null,
      "outputs": []
    },
    {
      "cell_type": "code",
      "source": [
        "df=df2\n",
        "# Separate features (X) and target variable (y)\n",
        "X = df[['Tenure (Years)', 'Age', 'Training Hours (Past Year)', 'Department_IT', 'Department_Marketing', 'Department_Operations', 'Department_Sales']]\n",
        "y = df['Job Satisfaction Score (1-10)']\n",
        "\n",
        "# Split the data into training and testing sets\n",
        "X_train, X_test, y_train, y_test = train_test_split(X, y, test_size=0.2, random_state=42)\n",
        "\n",
        "# Initialize and fit the linear regression model\n",
        "model = LinearRegression()\n",
        "model.fit(X_train, y_train)\n",
        "\n",
        "# Make pre\n",
        "\n",
        "# Make predictions on the test set\n",
        "y_pred = model.predict(X_test)\n",
        "\n",
        "# Evaluate the model\n",
        "mse = mean_squared_error(y_test, y_pred)\n",
        "print(\"Mean Squared Error:\", mse)\n",
        "\n",
        "# Coefficients\n",
        "print(\"Coefficients:\", model.coef_)"
      ],
      "metadata": {
        "id": "g02B51cz5RXA",
        "colab": {
          "base_uri": "https://localhost:8080/"
        },
        "outputId": "69077586-29d6-4c8b-af44-65260d3eb0ca"
      },
      "execution_count": null,
      "outputs": [
        {
          "output_type": "stream",
          "name": "stdout",
          "text": [
            "Mean Squared Error: 2.3447333558327266\n",
            "Coefficients: [ 0.82736169 -0.1812579   0.0671637  -1.38602885  0.14088595  0.36852936\n",
            "  1.19336883]\n"
          ]
        }
      ]
    },
    {
      "cell_type": "code",
      "source": [
        "# Coefficients\n",
        "coefficients = model.coef_\n",
        "intercept = model.intercept_\n",
        "\n",
        "# Display the equation\n",
        "equation = \"Job Satisfaction Score = \"\n",
        "for i, coef in enumerate(coefficients):\n",
        "    equation += f\"({coef:.2f} * {X.columns[i]}) + \"\n",
        "equation += f\"{intercept:.2f}\"\n",
        "\n",
        "print(\"Linear Regression Equation:\")\n",
        "print(equation)"
      ],
      "metadata": {
        "colab": {
          "base_uri": "https://localhost:8080/"
        },
        "id": "MXwtHbNmBcRI",
        "outputId": "540a6f91-3dbb-44ac-95b0-f1b0392e65f1"
      },
      "execution_count": null,
      "outputs": [
        {
          "output_type": "stream",
          "name": "stdout",
          "text": [
            "Linear Regression Equation:\n",
            "Job Satisfaction Score = (0.83 * Tenure (Years)) + (-0.18 * Age) + (0.07 * Training Hours (Past Year)) + (-1.39 * Department_IT) + (0.14 * Department_Marketing) + (0.37 * Department_Operations) + (1.19 * Department_Sales) + 8.20\n"
          ]
        }
      ]
    },
    {
      "cell_type": "code",
      "source": [
        "import numpy as np\n",
        "\n",
        "# Calculate R-squared\n",
        "y_pred_train = model.predict(X_train)\n",
        "y_pred_test = model.predict(X_test)\n",
        "\n",
        "def r_squared(y_true, y_pred):\n",
        "    ss_res = np.sum((y_true - y_pred) ** 2)\n",
        "    ss_tot = np.sum((y_true - np.mean(y_true)) ** 2)\n",
        "    return 1 - (ss_res / ss_tot)\n",
        "\n",
        "r2_train = r_squared(y_train, y_pred_train)\n",
        "r2_test = r_squared(y_test, y_pred_test)\n",
        "print(\"R-squared (Train):\", r2_train)\n",
        "print(\"R-squared (Test):\", r2_test)\n",
        "\n",
        "# Calculate Adjusted R-squared\n",
        "n = len(X_train)\n",
        "p = X_train.shape[1]\n",
        "adj_r2_train = 1 - (1 - r2_train) * ((n - 1) / (n - p - 1))\n",
        "adj_r2_test = 1 - (1 - r2_test) * ((n - 1) / (n - p - 1))\n",
        "print(\"Adjusted R-squared (Train):\", adj_r2_train)\n",
        "print(\"Adjusted R-squared (Test):\", adj_r2_test)\n",
        "\n",
        "# Calculate confusion matrix\n",
        "def confusion_matrix(y_true, y_pred):\n",
        "    cm = np.zeros((10, 10), dtype=int)\n",
        "    for true, pred in zip(y_true, y_pred):\n",
        "        cm[int(true)-1, int(round(pred))-1] += 1\n",
        "    return cm\n",
        "\n",
        "conf_matrix_train = confusion_matrix(y_train, y_pred_train)\n",
        "conf_matrix_test = confusion_matrix(y_test, y_pred_test)\n",
        "\n",
        "print(\"Confusion Matrix (Train):\")\n",
        "print(conf_matrix_train)\n",
        "print(\"Confusion Matrix (Test):\")\n",
        "print(conf_matrix_test)"
      ],
      "metadata": {
        "colab": {
          "base_uri": "https://localhost:8080/"
        },
        "id": "cydf0SlqB4mx",
        "outputId": "c93bcc06-f626-4876-b457-86126bf45de3"
      },
      "execution_count": null,
      "outputs": [
        {
          "output_type": "stream",
          "name": "stdout",
          "text": [
            "R-squared (Train): 0.9152648280575999\n",
            "R-squared (Test): -0.563155570555151\n",
            "Adjusted R-squared (Train): 0.8411215526079998\n",
            "Adjusted R-squared (Test): -1.9309166947909082\n",
            "Confusion Matrix (Train):\n",
            "[[0 0 0 0 0 0 0 0 0 0]\n",
            " [0 0 0 0 0 0 0 0 0 0]\n",
            " [0 0 0 0 0 0 0 0 0 0]\n",
            " [0 0 0 0 0 0 0 0 0 0]\n",
            " [0 0 0 0 0 1 0 0 0 0]\n",
            " [0 0 0 0 0 3 1 0 0 0]\n",
            " [0 0 0 0 0 0 4 0 0 0]\n",
            " [0 0 0 0 0 0 0 3 0 0]\n",
            " [0 0 0 0 0 0 0 1 3 0]\n",
            " [0 0 0 0 0 0 0 0 0 0]]\n",
            "Confusion Matrix (Test):\n",
            "[[0 0 0 0 0 0 0 0 0 0]\n",
            " [0 0 0 0 0 0 0 0 0 0]\n",
            " [0 0 0 0 0 0 0 0 0 0]\n",
            " [0 0 0 0 0 0 0 0 0 0]\n",
            " [0 0 0 0 0 0 1 0 0 0]\n",
            " [0 0 0 0 0 0 0 0 0 0]\n",
            " [0 0 0 0 0 1 0 0 0 0]\n",
            " [0 0 0 0 0 0 1 0 0 1]\n",
            " [0 0 0 0 0 0 0 0 0 0]\n",
            " [0 0 0 0 0 0 0 0 0 0]]\n"
          ]
        }
      ]
    },
    {
      "cell_type": "code",
      "source": [
        "import seaborn as sns\n",
        "import matplotlib.pyplot as plt\n",
        "\n",
        "# Create a DataFrame with the data\n",
        "df = pd.DataFrame({'X': X_train['Age'], 'y': y_train})\n",
        "\n",
        "# Plot the data points with a linear regression line\n",
        "sns.lmplot(x='X', y='y', data=df)\n",
        "plt.title('Linear Regression')\n",
        "plt.xlabel('Age')\n",
        "plt.ylabel('Job Satisfaction Score')\n",
        "plt.show()"
      ],
      "metadata": {
        "colab": {
          "base_uri": "https://localhost:8080/",
          "height": 527
        },
        "id": "pzATjb6NB818",
        "outputId": "7791992b-3180-467e-f084-0c29f9fc5120"
      },
      "execution_count": null,
      "outputs": [
        {
          "output_type": "display_data",
          "data": {
            "text/plain": [
              "<Figure size 500x500 with 1 Axes>"
            ],
            "image/png": "[encoded data removed]"
          },
          "metadata": {}
        }
      ]
    },
    {
      "cell_type": "code",
      "source": [
        "def interpret_model_performance(r2_train, r2_test, adj_r2_train, adj_r2_test, mse):\n",
        "    # Check R-squared and Adjusted R-squared\n",
        "    if r2_train >= 0.5 and r2_test >= 0.5 and adj_r2_train >= 0.5 and adj_r2_test >= 0.5:\n",
        "        print(\"R-squared values indicate a good fit of the model to the data.\")\n",
        "        print(\"Adjusted R-squared values also suggest a good fit considering the number of predictors in the model.\")\n",
        "    else:\n",
        "        print(\"R-squared and Adjusted R-squared values should ideally be closer to 1 for a good fit.\")\n",
        "\n",
        "    # Check Mean Squared Error (MSE)\n",
        "    if mse < 5:  # Adjust threshold based on your dataset and problem domain\n",
        "        print(\"Low Mean Squared Error (MSE) indicates better performance of the model.\")\n",
        "    else:\n",
        "        print(\"Mean Squared Error (MSE) is relatively high, suggesting potential issues with model performance.\")\n",
        "\n",
        "    # Print general recommendation\n",
        "    if r2_train >= 0.5 and r2_test >= 0.5 and adj_r2_train >= 0.5 and adj_r2_test >= 0.5 and mse < 5:\n",
        "        print(\"Overall, the model appears to be performing well.\")\n",
        "    else:\n",
        "        print(\"Further investigation and refinement of the model may be necessary.\")\n",
        "\n",
        "# Call the function with your model's metrics\n",
        "interpret_model_performance(r2_train, r2_test, adj_r2_train, adj_r2_test, mse)\n",
        "\n"
      ],
      "metadata": {
        "colab": {
          "base_uri": "https://localhost:8080/"
        },
        "id": "NW5ALqd5CAYr",
        "outputId": "16c70e5b-d929-4953-bbef-f2b47e60171b"
      },
      "execution_count": null,
      "outputs": [
        {
          "output_type": "stream",
          "name": "stdout",
          "text": [
            "R-squared and Adjusted R-squared values should ideally be closer to 1 for a good fit.\n",
            "Low Mean Squared Error (MSE) indicates better performance of the model.\n",
            "Further investigation and refinement of the model may be necessary.\n"
          ]
        }
      ]
    },
    {
      "cell_type": "code",
      "source": [
        "# Resample with replacement to create a larger dataset\n",
        "bigdf = df2.sample(n=1000, replace=True, random_state=432)\n",
        "df2.head()\n",
        "df2.info()"
      ],
      "metadata": {
        "colab": {
          "base_uri": "https://localhost:8080/"
        },
        "id": "myqiDi0UCE8P",
        "outputId": "f0b8e6b8-dd9e-46ab-f0c5-a77528f40d8f"
      },
      "execution_count": null,
      "outputs": [
        {
          "output_type": "stream",
          "name": "stdout",
          "text": [
            "<class 'pandas.core.frame.DataFrame'>\n",
            "Index: 20 entries, 0 to 19\n",
            "Data columns (total 9 columns):\n",
            " #   Column                         Non-Null Count  Dtype  \n",
            "---  ------                         --------------  -----  \n",
            " 0   Employee ID                    20 non-null     float64\n",
            " 1   Tenure (Years)                 20 non-null     float64\n",
            " 2   Age                            20 non-null     float64\n",
            " 3   Job Satisfaction Score (1-10)  20 non-null     float64\n",
            " 4   Training Hours (Past Year)     20 non-null     float64\n",
            " 5   Department_IT                  20 non-null     int64  \n",
            " 6   Department_Marketing           20 non-null     int64  \n",
            " 7   Department_Operations          20 non-null     int64  \n",
            " 8   Department_Sales               20 non-null     int64  \n",
            "dtypes: float64(5), int64(4)\n",
            "memory usage: 1.6 KB\n"
          ]
        }
      ]
    },
    {
      "cell_type": "code",
      "source": [
        "bigdf.info()\n",
        "bigdf.head()"
      ],
      "metadata": {
        "colab": {
          "base_uri": "https://localhost:8080/",
          "height": 511
        },
        "id": "aHTsUooVCNEA",
        "outputId": "97e909ac-bf87-4808-bfa1-cfc7762db4a0"
      },
      "execution_count": null,
      "outputs": [
        {
          "output_type": "stream",
          "name": "stdout",
          "text": [
            "<class 'pandas.core.frame.DataFrame'>\n",
            "Index: 1000 entries, 6 to 15\n",
            "Data columns (total 9 columns):\n",
            " #   Column                         Non-Null Count  Dtype  \n",
            "---  ------                         --------------  -----  \n",
            " 0   Employee ID                    1000 non-null   float64\n",
            " 1   Tenure (Years)                 1000 non-null   float64\n",
            " 2   Age                            1000 non-null   float64\n",
            " 3   Job Satisfaction Score (1-10)  1000 non-null   float64\n",
            " 4   Training Hours (Past Year)     1000 non-null   float64\n",
            " 5   Department_IT                  1000 non-null   int64  \n",
            " 6   Department_Marketing           1000 non-null   int64  \n",
            " 7   Department_Operations          1000 non-null   int64  \n",
            " 8   Department_Sales               1000 non-null   int64  \n",
            "dtypes: float64(5), int64(4)\n",
            "memory usage: 78.1 KB\n"
          ]
        },
        {
          "output_type": "execute_result",
          "data": {
            "text/plain": [
              "    Employee ID  Tenure (Years)   Age  Job Satisfaction Score (1-10)  \\\n",
              "6           7.0             1.0  25.0                            7.0   \n",
              "0           1.0             2.0  28.0                            7.0   \n",
              "11         12.0             3.0  33.0                            8.0   \n",
              "4           5.0             3.0  30.0                            5.0   \n",
              "11         12.0             3.0  33.0                            8.0   \n",
              "\n",
              "    Training Hours (Past Year)  Department_IT  Department_Marketing  \\\n",
              "6                         15.0              0                     0   \n",
              "0                         20.0              0                     1   \n",
              "11                        32.0              0                     0   \n",
              "4                         25.0              1                     0   \n",
              "11                        32.0              0                     0   \n",
              "\n",
              "    Department_Operations  Department_Sales  \n",
              "6                       0                 1  \n",
              "0                       0                 0  \n",
              "11                      0                 1  \n",
              "4                       0                 0  \n",
              "11                      0                 1  "
            ],
            "text/html": [
              "\n",
              "  <div id=\"df-4c06aae8-e7dd-44f0-90f1-700fad77cc12\" class=\"colab-df-container\">\n",
              "    <div>\n",
              "<style scoped>\n",
              "    .dataframe tbody tr th:only-of-type {\n",
              "        vertical-align: middle;\n",
              "    }\n",
              "\n",
              "    .dataframe tbody tr th {\n",
              "        vertical-align: top;\n",
              "    }\n",
              "\n",
              "    .dataframe thead th {\n",
              "        text-align: right;\n",
              "    }\n",
              "</style>\n",
              "<table border=\"1\" class=\"dataframe\">\n",
              "  <thead>\n",
              "    <tr style=\"text-align: right;\">\n",
              "      <th></th>\n",
              "      <th>Employee ID</th>\n",
              "      <th>Tenure (Years)</th>\n",
              "      <th>Age</th>\n",
              "      <th>Job Satisfaction Score (1-10)</th>\n",
              "      <th>Training Hours (Past Year)</th>\n",
              "      <th>Department_IT</th>\n",
              "      <th>Department_Marketing</th>\n",
              "      <th>Department_Operations</th>\n",
              "      <th>Department_Sales</th>\n",
              "    </tr>\n",
              "  </thead>\n",
              "  <tbody>\n",
              "    <tr>\n",
              "      <th>6</th>\n",
              "      <td>7.0</td>\n",
              "      <td>1.0</td>\n",
              "      <td>25.0</td>\n",
              "      <td>7.0</td>\n",
              "      <td>15.0</td>\n",
              "      <td>0</td>\n",
              "      <td>0</td>\n",
              "      <td>0</td>\n",
              "      <td>1</td>\n",
              "    </tr>\n",
              "    <tr>\n",
              "      <th>0</th>\n",
              "      <td>1.0</td>\n",
              "      <td>2.0</td>\n",
              "      <td>28.0</td>\n",
              "      <td>7.0</td>\n",
              "      <td>20.0</td>\n",
              "      <td>0</td>\n",
              "      <td>1</td>\n",
              "      <td>0</td>\n",
              "      <td>0</td>\n",
              "    </tr>\n",
              "    <tr>\n",
              "      <th>11</th>\n",
              "      <td>12.0</td>\n",
              "      <td>3.0</td>\n",
              "      <td>33.0</td>\n",
              "      <td>8.0</td>\n",
              "      <td>32.0</td>\n",
              "      <td>0</td>\n",
              "      <td>0</td>\n",
              "      <td>0</td>\n",
              "      <td>1</td>\n",
              "    </tr>\n",
              "    <tr>\n",
              "      <th>4</th>\n",
              "      <td>5.0</td>\n",
              "      <td>3.0</td>\n",
              "      <td>30.0</td>\n",
              "      <td>5.0</td>\n",
              "      <td>25.0</td>\n",
              "      <td>1</td>\n",
              "      <td>0</td>\n",
              "      <td>0</td>\n",
              "      <td>0</td>\n",
              "    </tr>\n",
              "    <tr>\n",
              "      <th>11</th>\n",
              "      <td>12.0</td>\n",
              "      <td>3.0</td>\n",
              "      <td>33.0</td>\n",
              "      <td>8.0</td>\n",
              "      <td>32.0</td>\n",
              "      <td>0</td>\n",
              "      <td>0</td>\n",
              "      <td>0</td>\n",
              "      <td>1</td>\n",
              "    </tr>\n",
              "  </tbody>\n",
              "</table>\n",
              "</div>\n",
              "    <div class=\"colab-df-buttons\">\n",
              "\n",
              "  <div class=\"colab-df-container\">\n",
              "    <button class=\"colab-df-convert\" onclick=\"convertToInteractive('df-4c06aae8-e7dd-44f0-90f1-700fad77cc12')\"\n",
              "            title=\"Convert this dataframe to an interactive table.\"\n",
              "            style=\"display:none;\">\n",
              "\n",
              "  <svg xmlns=\"http://www.w3.org/2000/svg\" height=\"24px\" viewBox=\"0 -960 960 960\">\n",
              "    <path d=\"M120-120v-720h720v720H120Zm60-500h600v-160H180v160Zm220 220h160v-160H400v160Zm0 220h160v-160H400v160ZM180-400h160v-160H180v160Zm440 0h160v-160H620v160ZM180-180h160v-160H180v160Zm440 0h160v-160H620v160Z\"/>\n",
              "  </svg>\n",
              "    </button>\n",
              "\n",
              "  <style>\n",
              "    .colab-df-container {\n",
              "      display:flex;\n",
              "      gap: 12px;\n",
              "    }\n",
              "\n",
              "    .colab-df-convert {\n",
              "      background-color: #E8F0FE;\n",
              "      border: none;\n",
              "      border-radius: 50%;\n",
              "      cursor: pointer;\n",
              "      display: none;\n",
              "      fill: #1967D2;\n",
              "      height: 32px;\n",
              "      padding: 0 0 0 0;\n",
              "      width: 32px;\n",
              "    }\n",
              "\n",
              "    .colab-df-convert:hover {\n",
              "      background-color: #E2EBFA;\n",
              "      box-shadow: 0px 1px 2px rgba(60, 64, 67, 0.3), 0px 1px 3px 1px rgba(60, 64, 67, 0.15);\n",
              "      fill: #174EA6;\n",
              "    }\n",
              "\n",
              "    .colab-df-buttons div {\n",
              "      margin-bottom: 4px;\n",
              "    }\n",
              "\n",
              "    [theme=dark] .colab-df-convert {\n",
              "      background-color: #3B4455;\n",
              "      fill: #D2E3FC;\n",
              "    }\n",
              "\n",
              "    [theme=dark] .colab-df-convert:hover {\n",
              "      background-color: #434B5C;\n",
              "      box-shadow: 0px 1px 3px 1px rgba(0, 0, 0, 0.15);\n",
              "      filter: drop-shadow(0px 1px 2px rgba(0, 0, 0, 0.3));\n",
              "      fill: #FFFFFF;\n",
              "    }\n",
              "  </style>\n",
              "\n",
              "    <script>\n",
              "      const buttonEl =\n",
              "        document.querySelector('#df-4c06aae8-e7dd-44f0-90f1-700fad77cc12 button.colab-df-convert');\n",
              "      buttonEl.style.display =\n",
              "        google.colab.kernel.accessAllowed ? 'block' : 'none';\n",
              "\n",
              "      async function convertToInteractive(key) {\n",
              "        const element = document.querySelector('#df-4c06aae8-e7dd-44f0-90f1-700fad77cc12');\n",
              "        const dataTable =\n",
              "          await google.colab.kernel.invokeFunction('convertToInteractive',\n",
              "                                                    [key], {});\n",
              "        if (!dataTable) return;\n",
              "\n",
              "        const docLinkHtml = 'Like what you see? Visit the ' +\n",
              "          '<a target=\"_blank\" href=https://colab.research.google.com/notebooks/data_table.ipynb>data table notebook</a>'\n",
              "          + ' to learn more about interactive tables.';\n",
              "        element.innerHTML = '';\n",
              "        dataTable['output_type'] = 'display_data';\n",
              "        await google.colab.output.renderOutput(dataTable, element);\n",
              "        const docLink = document.createElement('div');\n",
              "        docLink.innerHTML = docLinkHtml;\n",
              "        element.appendChild(docLink);\n",
              "      }\n",
              "    </script>\n",
              "  </div>\n",
              "\n",
              "\n",
              "<div id=\"df-e53add44-0074-4808-b7bf-90c3e869e391\">\n",
              "  <button class=\"colab-df-quickchart\" onclick=\"quickchart('df-e53add44-0074-4808-b7bf-90c3e869e391')\"\n",
              "            title=\"Suggest charts\"\n",
              "            style=\"display:none;\">\n",
              "\n",
              "<svg xmlns=\"http://www.w3.org/2000/svg\" height=\"24px\"viewBox=\"0 0 24 24\"\n",
              "     width=\"24px\">\n",
              "    <g>\n",
              "        <path d=\"M19 3H5c-1.1 0-2 .9-2 2v14c0 1.1.9 2 2 2h14c1.1 0 2-.9 2-2V5c0-1.1-.9-2-2-2zM9 17H7v-7h2v7zm4 0h-2V7h2v10zm4 0h-2v-4h2v4z\"/>\n",
              "    </g>\n",
              "</svg>\n",
              "  </button>\n",
              "\n",
              "<style>\n",
              "  .colab-df-quickchart {\n",
              "      --bg-color: #E8F0FE;\n",
              "      --fill-color: #1967D2;\n",
              "      --hover-bg-color: #E2EBFA;\n",
              "      --hover-fill-color: #174EA6;\n",
              "      --disabled-fill-color: #AAA;\n",
              "      --disabled-bg-color: #DDD;\n",
              "  }\n",
              "\n",
              "  [theme=dark] .colab-df-quickchart {\n",
              "      --bg-color: #3B4455;\n",
              "      --fill-color: #D2E3FC;\n",
              "      --hover-bg-color: #434B5C;\n",
              "      --hover-fill-color: #FFFFFF;\n",
              "      --disabled-bg-color: #3B4455;\n",
              "      --disabled-fill-color: #666;\n",
              "  }\n",
              "\n",
              "  .colab-df-quickchart {\n",
              "    background-color: var(--bg-color);\n",
              "    border: none;\n",
              "    border-radius: 50%;\n",
              "    cursor: pointer;\n",
              "    display: none;\n",
              "    fill: var(--fill-color);\n",
              "    height: 32px;\n",
              "    padding: 0;\n",
              "    width: 32px;\n",
              "  }\n",
              "\n",
              "  .colab-df-quickchart:hover {\n",
              "    background-color: var(--hover-bg-color);\n",
              "    box-shadow: 0 1px 2px rgba(60, 64, 67, 0.3), 0 1px 3px 1px rgba(60, 64, 67, 0.15);\n",
              "    fill: var(--button-hover-fill-color);\n",
              "  }\n",
              "\n",
              "  .colab-df-quickchart-complete:disabled,\n",
              "  .colab-df-quickchart-complete:disabled:hover {\n",
              "    background-color: var(--disabled-bg-color);\n",
              "    fill: var(--disabled-fill-color);\n",
              "    box-shadow: none;\n",
              "  }\n",
              "\n",
              "  .colab-df-spinner {\n",
              "    border: 2px solid var(--fill-color);\n",
              "    border-color: transparent;\n",
              "    border-bottom-color: var(--fill-color);\n",
              "    animation:\n",
              "      spin 1s steps(1) infinite;\n",
              "  }\n",
              "\n",
              "  @keyframes spin {\n",
              "    0% {\n",
              "      border-color: transparent;\n",
              "      border-bottom-color: var(--fill-color);\n",
              "      border-left-color: var(--fill-color);\n",
              "    }\n",
              "    20% {\n",
              "      border-color: transparent;\n",
              "      border-left-color: var(--fill-color);\n",
              "      border-top-color: var(--fill-color);\n",
              "    }\n",
              "    30% {\n",
              "      border-color: transparent;\n",
              "      border-left-color: var(--fill-color);\n",
              "      border-top-color: var(--fill-color);\n",
              "      border-right-color: var(--fill-color);\n",
              "    }\n",
              "    40% {\n",
              "      border-color: transparent;\n",
              "      border-right-color: var(--fill-color);\n",
              "      border-top-color: var(--fill-color);\n",
              "    }\n",
              "    60% {\n",
              "      border-color: transparent;\n",
              "      border-right-color: var(--fill-color);\n",
              "    }\n",
              "    80% {\n",
              "      border-color: transparent;\n",
              "      border-right-color: var(--fill-color);\n",
              "      border-bottom-color: var(--fill-color);\n",
              "    }\n",
              "    90% {\n",
              "      border-color: transparent;\n",
              "      border-bottom-color: var(--fill-color);\n",
              "    }\n",
              "  }\n",
              "</style>\n",
              "\n",
              "  <script>\n",
              "    async function quickchart(key) {\n",
              "      const quickchartButtonEl =\n",
              "        document.querySelector('#' + key + ' button');\n",
              "      quickchartButtonEl.disabled = true;  // To prevent multiple clicks.\n",
              "      quickchartButtonEl.classList.add('colab-df-spinner');\n",
              "      try {\n",
              "        const charts = await google.colab.kernel.invokeFunction(\n",
              "            'suggestCharts', [key], {});\n",
              "      } catch (error) {\n",
              "        console.error('Error during call to suggestCharts:', error);\n",
              "      }\n",
              "      quickchartButtonEl.classList.remove('colab-df-spinner');\n",
              "      quickchartButtonEl.classList.add('colab-df-quickchart-complete');\n",
              "    }\n",
              "    (() => {\n",
              "      let quickchartButtonEl =\n",
              "        document.querySelector('#df-e53add44-0074-4808-b7bf-90c3e869e391 button');\n",
              "      quickchartButtonEl.style.display =\n",
              "        google.colab.kernel.accessAllowed ? 'block' : 'none';\n",
              "    })();\n",
              "  </script>\n",
              "</div>\n",
              "    </div>\n",
              "  </div>\n"
            ],
            "application/vnd.google.colaboratory.intrinsic+json": {
              "type": "dataframe",
              "variable_name": "bigdf",
              "summary": "{\n  \"name\": \"bigdf\",\n  \"rows\": 1000,\n  \"fields\": [\n    {\n      \"column\": \"Employee ID\",\n      \"properties\": {\n        \"dtype\": \"number\",\n        \"std\": 5.574322296841928,\n        \"min\": 1.0,\n        \"max\": 20.0,\n        \"num_unique_values\": 20,\n        \"samples\": [\n          7.0,\n          13.0,\n          15.0\n        ],\n        \"semantic_type\": \"\",\n        \"description\": \"\"\n      }\n    },\n    {\n      \"column\": \"Tenure (Years)\",\n      \"properties\": {\n        \"dtype\": \"number\",\n        \"std\": 2.1602188651952714,\n        \"min\": 1.0,\n        \"max\": 8.0,\n        \"num_unique_values\": 8,\n        \"samples\": [\n          2.0,\n          5.0,\n          1.0\n        ],\n        \"semantic_type\": \"\",\n        \"description\": \"\"\n      }\n    },\n    {\n      \"column\": \"Age\",\n      \"properties\": {\n        \"dtype\": \"number\",\n        \"std\": 7.164657934844016,\n        \"min\": 22.0,\n        \"max\": 48.0,\n        \"num_unique_values\": 20,\n        \"samples\": [\n          25.0,\n          26.0,\n          34.0\n        ],\n        \"semantic_type\": \"\",\n        \"description\": \"\"\n      }\n    },\n    {\n      \"column\": \"Job Satisfaction Score (1-10)\",\n      \"properties\": {\n        \"dtype\": \"number\",\n        \"std\": 1.2722930989869157,\n        \"min\": 5.0,\n        \"max\": 9.0,\n        \"num_unique_values\": 5,\n        \"samples\": [\n          8.0,\n          9.0,\n          5.0\n        ],\n        \"semantic_type\": \"\",\n        \"description\": \"\"\n      }\n    },\n    {\n      \"column\": \"Training Hours (Past Year)\",\n      \"properties\": {\n        \"dtype\": \"number\",\n        \"std\": 12.666638059079439,\n        \"min\": 10.0,\n        \"max\": 55.0,\n        \"num_unique_values\": 17,\n        \"samples\": [\n          15.0,\n          20.0,\n          28.0\n        ],\n        \"semantic_type\": \"\",\n        \"description\": \"\"\n      }\n    },\n    {\n      \"column\": \"Department_IT\",\n      \"properties\": {\n        \"dtype\": \"number\",\n        \"std\": 0,\n        \"min\": 0,\n        \"max\": 1,\n        \"num_unique_values\": 2,\n        \"samples\": [\n          1,\n          0\n        ],\n        \"semantic_type\": \"\",\n        \"description\": \"\"\n      }\n    },\n    {\n      \"column\": \"Department_Marketing\",\n      \"properties\": {\n        \"dtype\": \"number\",\n        \"std\": 0,\n        \"min\": 0,\n        \"max\": 1,\n        \"num_unique_values\": 2,\n        \"samples\": [\n          1,\n          0\n        ],\n        \"semantic_type\": \"\",\n        \"description\": \"\"\n      }\n    },\n    {\n      \"column\": \"Department_Operations\",\n      \"properties\": {\n        \"dtype\": \"number\",\n        \"std\": 0,\n        \"min\": 0,\n        \"max\": 1,\n        \"num_unique_values\": 2,\n        \"samples\": [\n          1,\n          0\n        ],\n        \"semantic_type\": \"\",\n        \"description\": \"\"\n      }\n    },\n    {\n      \"column\": \"Department_Sales\",\n      \"properties\": {\n        \"dtype\": \"number\",\n        \"std\": 0,\n        \"min\": 0,\n        \"max\": 1,\n        \"num_unique_values\": 2,\n        \"samples\": [\n          0,\n          1\n        ],\n        \"semantic_type\": \"\",\n        \"description\": \"\"\n      }\n    }\n  ]\n}"
            }
          },
          "metadata": {},
          "execution_count": 27
        }
      ]
    },
    {
      "cell_type": "code",
      "source": [
        "## Is this new dataset similar to the old dataset ?\n",
        "\n",
        "# Define threshold as a percentage (e.g., 10%)\n",
        "threshold_percent = 10  # Adjust as needed\n",
        "\n",
        "# Calculate percentage difference for mean\n",
        "mean_diff_percent = ((bigdf.mean() - numeric_df.mean()) / numeric_df.mean()) * 100\n",
        "\n",
        "# Calculate percentage difference for standard deviation\n",
        "std_diff_percent = ((bigdf.std() - numeric_df.std()) / numeric_df.std()) * 100\n",
        "## Is this new dataset similar to the old dataset ?\n",
        "\n",
        "# Define threshold as a percentage (e.g., 10%)\n",
        "threshold_percent = 10 # Adjust as needed\n",
        "print(mean_diff_percent)\n",
        "\n",
        "# Calculate percentage difference for mean\n",
        "mean_diff_percent = ((bigdf.mean() - numeric_df.mean()) / numeric_df.mean()) * 100\n",
        "print(std_diff_percent)\n",
        "\n",
        "# Calculate percentage difference for standard deviation\n",
        "std_diff_percent = ((bigdf.std() - numeric_df.std()) / numeric_df.std()) * 100\n",
        "# Check if the percentage differences are below the threshold\n",
        "mean_similar = (mean_diff_percent.abs() <= threshold_percent).all()\n",
        "std_similar = (std_diff_percent.abs() <= threshold_percent).all()\n",
        "\n",
        "# Check if both mean and standard deviation are similar within the threshold\n",
        "if mean_similar and std_similar:\n",
        "    print(\"bigdf and numeric_df are similar within the specified threshold of\", threshold_percent, \"%.\")\n",
        "else:\n",
        "    print(\"bigdf and numeric_df are not similar within the specified threshold of\", threshold_percent, \"%.\")\n",
        "#Insights:\n",
        "#mean and standard deviation are not similar within the threshold\n",
        "#Job satisfaction socre is similar,\n",
        "#tenure, and training hours are different\n",
        "#Department categories are the same"
      ],
      "metadata": {
        "colab": {
          "base_uri": "https://localhost:8080/"
        },
        "id": "J4geO5YKCQTc",
        "outputId": "6638deb7-e495-4e82-fc64-4adcfcaec6b9"
      },
      "execution_count": null,
      "outputs": [
        {
          "output_type": "stream",
          "name": "stdout",
          "text": [
            "Age                             -1.698925\n",
            "Department_IT                         NaN\n",
            "Department_Marketing                  NaN\n",
            "Department_Operations                 NaN\n",
            "Department_Sales                      NaN\n",
            "Employee ID                      0.019048\n",
            "Job Satisfaction Score (1-10)   -1.144828\n",
            "Tenure (Years)                  -3.083333\n",
            "Training Hours (Past Year)      -2.265781\n",
            "dtype: float64\n",
            "Age                             -4.390680\n",
            "Department_IT                         NaN\n",
            "Department_Marketing                  NaN\n",
            "Department_Operations                 NaN\n",
            "Department_Sales                      NaN\n",
            "Employee ID                     -5.776756\n",
            "Job Satisfaction Score (1-10)   -1.578018\n",
            "Tenure (Years)                  -2.253646\n",
            "Training Hours (Past Year)      -0.800045\n",
            "dtype: float64\n",
            "bigdf and numeric_df are not similar within the specified threshold of 10 %.\n"
          ]
        }
      ]
    },
    {
      "cell_type": "code",
      "source": [
        "# Separate features (X) and target variable (y)\n",
        "X = bigdf[['Tenure (Years)', 'Age', 'Training Hours (Past Year)', 'Department_IT', 'Department_Marketing', 'Department_Operations', 'Department_Sales']]\n",
        "y = bigdf['Job Satisfaction Score (1-10)']\n",
        "\n",
        "# Split the data into training and testing sets\n",
        "X_train, X_test, y_train, y_test = train_test_split(X, y, test_size=0.2, random_state=42)\n",
        "\n",
        "# Initialize and fit the linear regression model\n",
        "model = LinearRegression()\n",
        "model.fit(X_train, y_train)\n",
        "\n",
        "# Make pre\n",
        "\n",
        "# Make predictions on the test set\n",
        "y_pred = model.predict(X_test)\n",
        "\n",
        "# Evaluate the model\n",
        "mse = mean_squared_error(y_test, y_pred)\n",
        "print(\"Mean Squared Error:\", mse)\n",
        "\n",
        "# Coefficients\n",
        "print(\"Coefficients:\", model.coef_)"
      ],
      "metadata": {
        "colab": {
          "base_uri": "https://localhost:8080/"
        },
        "id": "LlVNPiX3lREt",
        "outputId": "49b7bd72-b408-4c29-fc1f-ec0109bb82d0"
      },
      "execution_count": null,
      "outputs": [
        {
          "output_type": "stream",
          "name": "stdout",
          "text": [
            "Mean Squared Error: 0.38729193868944206\n",
            "Coefficients: [ 0.48309264 -0.06228062  0.04647866 -1.1564756  -0.3357427   0.22230451\n",
            "  0.54625172]\n"
          ]
        }
      ]
    },
    {
      "cell_type": "code",
      "source": [
        "# Coefficients\n",
        "coefficients = model.coef_\n",
        "intercept = model.intercept_\n",
        "\n",
        "# Display the equation\n",
        "equation = \"Job Satisfaction Score = \"\n",
        "for i, coef in enumerate(coefficients):\n",
        "    equation += f\"({coef:.2f} * {X.columns[i]}) + \"\n",
        "equation += f\"{intercept:.2f}\"\n",
        "\n",
        "print(\"Linear Regression Equation:\")\n",
        "print(equation)"
      ],
      "metadata": {
        "colab": {
          "base_uri": "https://localhost:8080/"
        },
        "id": "-RCY6TOoldng",
        "outputId": "391dc5ca-9700-4988-ac19-d65e8d31f0c7"
      },
      "execution_count": null,
      "outputs": [
        {
          "output_type": "stream",
          "name": "stdout",
          "text": [
            "Linear Regression Equation:\n",
            "Job Satisfaction Score = (0.48 * Tenure (Years)) + (-0.06 * Age) + (0.05 * Training Hours (Past Year)) + (-1.16 * Department_IT) + (-0.34 * Department_Marketing) + (0.22 * Department_Operations) + (0.55 * Department_Sales) + 6.27\n"
          ]
        }
      ]
    },
    {
      "cell_type": "code",
      "source": [
        "# Calculate R-squared\n",
        "y_pred_train = model.predict(X_train)\n",
        "y_pred_test = model.predict(X_test)\n",
        "\n",
        "def r_squared(y_true, y_pred):\n",
        "    ss_res = np.sum((y_true - y_pred) ** 2)\n",
        "    ss_tot = np.sum((y_true - np.mean(y_true)) ** 2)\n",
        "    return 1 - (ss_res / ss_tot)\n",
        "\n",
        "r2_train = r_squared(y_train, y_pred_train)\n",
        "r2_test = r_squared(y_test, y_pred_test)\n",
        "print(\"R-squared (Train):\", r2_train)\n",
        "print(\"R-squared (Test):\", r2_test)\n",
        "\n",
        "# Calculate Adjusted R-squared\n",
        "n = len(X_train)\n",
        "p = X_train.shape[1]\n",
        "adj_r2_train = 1 - (1 - r2_train) * ((n - 1) / (n - p - 1))\n",
        "adj_r2_test = 1 - (1 - r2_test) * ((n - 1) / (n - p - 1))\n",
        "print(\"Adjusted R-squared (Train):\", adj_r2_train)\n",
        "print(\"Adjusted R-squared (Test):\", adj_r2_test)\n",
        "\n",
        "# Calculate confusion matrix\n",
        "def confusion_matrix(y_true, y_pred):\n",
        "    cm = np.zeros((10, 10), dtype=int)\n",
        "    for true, pred in zip(y_true, y_pred):\n",
        "        cm[int(true)-1, int(round(pred))-1] += 1\n",
        "    return cm\n",
        "\n",
        "conf_matrix_train = confusion_matrix(y_train, y_pred_train)\n",
        "conf_matrix_test = confusion_matrix(y_test, y_pred_test)\n",
        "\n",
        "print(\"Confusion Matrix (Train):\")\n",
        "print(conf_matrix_train)\n",
        "print(\"Confusion Matrix (Test):\")\n",
        "print(conf_matrix_test)"
      ],
      "metadata": {
        "colab": {
          "base_uri": "https://localhost:8080/"
        },
        "id": "-Cakvh3AlsuT",
        "outputId": "256a188c-1023-402c-d1fe-7b972af6e4c1"
      },
      "execution_count": null,
      "outputs": [
        {
          "output_type": "stream",
          "name": "stdout",
          "text": [
            "R-squared (Train): 0.7564840322514679\n",
            "R-squared (Test): 0.7253248661777006\n",
            "Adjusted R-squared (Train): 0.7543317446577309\n",
            "Adjusted R-squared (Test): 0.7228971819141197\n",
            "Confusion Matrix (Train):\n",
            "[[  0   0   0   0   0   0   0   0   0   0]\n",
            " [  0   0   0   0   0   0   0   0   0   0]\n",
            " [  0   0   0   0   0   0   0   0   0   0]\n",
            " [  0   0   0   0   0   0   0   0   0   0]\n",
            " [  0   0   0   0   0  52  40   0   0   0]\n",
            " [  0   0   0   0   0 136  42   0   0   0]\n",
            " [  0   0   0   0   0  68 133   0   0   0]\n",
            " [  0   0   0   0   0   0  31 104  34   0]\n",
            " [  0   0   0   0   0   0   0  41 119   0]\n",
            " [  0   0   0   0   0   0   0   0   0   0]]\n",
            "Confusion Matrix (Test):\n",
            "[[ 0  0  0  0  0  0  0  0  0  0]\n",
            " [ 0  0  0  0  0  0  0  0  0  0]\n",
            " [ 0  0  0  0  0  0  0  0  0  0]\n",
            " [ 0  0  0  0  0  0  0  0  0  0]\n",
            " [ 0  0  0  0  0  6 10  0  0  0]\n",
            " [ 0  0  0  0  0 33  9  0  0  0]\n",
            " [ 0  0  0  0  0 24 39  0  0  0]\n",
            " [ 0  0  0  0  0  0  7 30  7  0]\n",
            " [ 0  0  0  0  0  0  0 13 22  0]\n",
            " [ 0  0  0  0  0  0  0  0  0  0]]\n"
          ]
        }
      ]
    },
    {
      "cell_type": "code",
      "source": [
        "import seaborn as sns\n",
        "import matplotlib.pyplot as plt\n",
        "\n",
        "# Create a DataFrame with the data\n",
        "df = pd.DataFrame({'X': X_train['Age'], 'y': y_train})\n",
        "\n",
        "# Plot the data points with a linear regression line\n",
        "sns.lmplot(x='X', y='y', data=df)\n",
        "plt.title('Linear Regression')\n",
        "plt.xlabel('Age')\n",
        "plt.ylabel('Job Satisfaction Score')\n",
        "plt.show()"
      ],
      "metadata": {
        "colab": {
          "base_uri": "https://localhost:8080/",
          "height": 527
        },
        "id": "fgFr3q1Fl48C",
        "outputId": "7dff1def-992f-427f-dd0d-a42a968a375f"
      },
      "execution_count": null,
      "outputs": [
        {
          "output_type": "display_data",
          "data": {
            "text/plain": [
              "<Figure size 500x500 with 1 Axes>"
            ],
            "image/png": "[encoded data removed]"
          },
          "metadata": {}
        }
      ]
    },
    {
      "cell_type": "code",
      "source": [
        "#Linear Regression Equation (original data):\n",
        "#Job Satisfaction Score = (0.83 * Tenure (Years)) + (-0.18 * Age) + (0.07 * Training Hours (Past Year)) + (-1.39 * Department_IT) + (0.14 * Department_Marketing) + (0.37 * Department_Operations) + (1.19 * Department_Sales) + 8.20\n",
        "\n",
        "#Linear Regression Equation (big data):\n",
        "#Job Satisfaction Score = (0.48 * Tenure (Years)) + (-0.06 * Age) + (0.05 * Training Hours (Past Year)) + (-1.16 * Department_IT) + (-0.34 * Department_Marketing) + (0.22 * Department_Operations) + (0.55 * Department_Sales) + 6.2"
      ],
      "metadata": {
        "id": "bKljcn0YnzMC"
      },
      "execution_count": null,
      "outputs": []
    },
    {
      "cell_type": "code",
      "source": [
        "#Big data\n",
        "#R-squared (Train): 0.7564840322514679\n",
        "#R-squared (Test): 0.7253248661777006\n",
        "#Adjusted R-squared (Train): 0.7543317446577309\n",
        "#Adjusted R-squared (Test): 0.7228971819141197"
      ],
      "metadata": {
        "id": "IEK2pO00oGcV"
      },
      "execution_count": null,
      "outputs": []
    },
    {
      "cell_type": "code",
      "source": [
        "#Original data\n",
        "#R-squared (Train): 0.9152648280575999\n",
        "#R-squared (Test): -0.563155570555151\n",
        "#Adjusted R-squared (Train): 0.8411215526079998\n",
        "#Adjusted R-squared (Test): -1.9309166947909082"
      ],
      "metadata": {
        "id": "QEIWwOhRoNko"
      },
      "execution_count": null,
      "outputs": []
    },
    {
      "cell_type": "code",
      "source": [
        "###Insights\n",
        "#The original data has less values (<30), so every value counts, so one value can change the outcome\n",
        "#The big data has a lot of values (>1000), so it is more accurate for predictions and decisions since one value can't change the whole outcome\n",
        "#R-squared is consistently 0.75 and 0.72 for the big data\n",
        "#R-squared is not consistent for the original small data\n",
        "#Age still has a negative impact but has reduced ( it moved from -0.18 to -0.06) in the big data compared to the original (reduction)\n",
        "#Department sales decreased the most (from 1.19 to 0.55)\n",
        "#Department Marketing now has a negative impact on job satisfaction score in the big data (from 0.14 to -0.34)\n",
        "#Tenure(years) decreased in the big data (from 0.83 to 0.48)\n",
        "#Training hours barely decreased in the big data (0.07 to 0.05)\n",
        "#Department IT has a negative impact in the big data but has still decreased (-1.39 to -1.16)\n",
        "#Department Operations decreased in the big data (0.37 to 0.22)\n",
        "#No change in the variables that make up the equation\n",
        "\n",
        "#Minimun engagement score dropped from 8.20 to 6.2\n"
      ],
      "metadata": {
        "id": "L9D9pNO0o30F"
      },
      "execution_count": null,
      "outputs": []
    }
  ],
  "metadata": {
    "colab": {
      "provenance": [],
      "toc_visible": true,
      "include_colab_link": true
    },
    "kernelspec": {
      "display_name": "Python 3",
      "name": "python3"
    },
    "widgets": {
      "application/vnd.jupyter.widget-state+json": {
        "51881e0058354efa9e6d6f1c2d3341eb": {
          "model_module": "@jupyter-widgets/controls",
          "model_name": "HBoxModel",
          "model_module_version": "1.5.0",
          "state": {
            "_dom_classes": [],
            "_model_module": "@jupyter-widgets/controls",
            "_model_module_version": "1.5.0",
            "_model_name": "HBoxModel",
            "_view_count": null,
            "_view_module": "@jupyter-widgets/controls",
            "_view_module_version": "1.5.0",
            "_view_name": "HBoxView",
            "box_style": "",
            "children": [
              "IPY_MODEL_10cc9aa918a448c0b51f1038482ecec3",
              "IPY_MODEL_f311db01a01245319601f28847f6654c",
              "IPY_MODEL_2c40eca7a7d34e32b5dbe7c5dbb49b6a"
            ],
            "layout": "IPY_MODEL_e174aa69c6b9409cae5c57f6e624b37f"
          }
        },
        "10cc9aa918a448c0b51f1038482ecec3": {
          "model_module": "@jupyter-widgets/controls",
          "model_name": "HTMLModel",
          "model_module_version": "1.5.0",
          "state": {
            "_dom_classes": [],
            "_model_module": "@jupyter-widgets/controls",
            "_model_module_version": "1.5.0",
            "_model_name": "HTMLModel",
            "_view_count": null,
            "_view_module": "@jupyter-widgets/controls",
            "_view_module_version": "1.5.0",
            "_view_name": "HTMLView",
            "description": "",
            "description_tooltip": null,
            "layout": "IPY_MODEL_4daf8a0b648b42648084ecc4250bcca1",
            "placeholder": "​",
            "style": "IPY_MODEL_73560f855a0b41ffb47e975d44c5685c",
            "value": "Done! Use &#x27;show&#x27; commands to display/save.   "
          }
        },
        "f311db01a01245319601f28847f6654c": {
          "model_module": "@jupyter-widgets/controls",
          "model_name": "FloatProgressModel",
          "model_module_version": "1.5.0",
          "state": {
            "_dom_classes": [],
            "_model_module": "@jupyter-widgets/controls",
            "_model_module_version": "1.5.0",
            "_model_name": "FloatProgressModel",
            "_view_count": null,
            "_view_module": "@jupyter-widgets/controls",
            "_view_module_version": "1.5.0",
            "_view_name": "ProgressView",
            "bar_style": "success",
            "description": "",
            "description_tooltip": null,
            "layout": "IPY_MODEL_43e35cb7fa334534b29ab1af1ff2af5c",
            "max": 1,
            "min": 0,
            "orientation": "horizontal",
            "style": "IPY_MODEL_93bd460becf14574ab3ba4fa4ee7ffc0",
            "value": 1
          }
        },
        "2c40eca7a7d34e32b5dbe7c5dbb49b6a": {
          "model_module": "@jupyter-widgets/controls",
          "model_name": "HTMLModel",
          "model_module_version": "1.5.0",
          "state": {
            "_dom_classes": [],
            "_model_module": "@jupyter-widgets/controls",
            "_model_module_version": "1.5.0",
            "_model_name": "HTMLModel",
            "_view_count": null,
            "_view_module": "@jupyter-widgets/controls",
            "_view_module_version": "1.5.0",
            "_view_name": "HTMLView",
            "description": "",
            "description_tooltip": null,
            "layout": "IPY_MODEL_b4afb2aa6fe14f47be887049e73c289f",
            "placeholder": "​",
            "style": "IPY_MODEL_d1eae426fa0844ca8162d633fdddd17e",
            "value": " [100%]   00:01 -&gt; (00:00 left)"
          }
        },
        "e174aa69c6b9409cae5c57f6e624b37f": {
          "model_module": "@jupyter-widgets/base",
          "model_name": "LayoutModel",
          "model_module_version": "1.2.0",
          "state": {
            "_model_module": "@jupyter-widgets/base",
            "_model_module_version": "1.2.0",
            "_model_name": "LayoutModel",
            "_view_count": null,
            "_view_module": "@jupyter-widgets/base",
            "_view_module_version": "1.2.0",
            "_view_name": "LayoutView",
            "align_content": null,
            "align_items": null,
            "align_self": null,
            "border": null,
            "bottom": null,
            "display": "inline-flex",
            "flex": null,
            "flex_flow": "row wrap",
            "grid_area": null,
            "grid_auto_columns": null,
            "grid_auto_flow": null,
            "grid_auto_rows": null,
            "grid_column": null,
            "grid_gap": null,
            "grid_row": null,
            "grid_template_areas": null,
            "grid_template_columns": null,
            "grid_template_rows": null,
            "height": null,
            "justify_content": null,
            "justify_items": null,
            "left": null,
            "margin": null,
            "max_height": null,
            "max_width": null,
            "min_height": null,
            "min_width": null,
            "object_fit": null,
            "object_position": null,
            "order": null,
            "overflow": null,
            "overflow_x": null,
            "overflow_y": null,
            "padding": null,
            "right": null,
            "top": null,
            "visibility": null,
            "width": "100%"
          }
        },
        "4daf8a0b648b42648084ecc4250bcca1": {
          "model_module": "@jupyter-widgets/base",
          "model_name": "LayoutModel",
          "model_module_version": "1.2.0",
          "state": {
            "_model_module": "@jupyter-widgets/base",
            "_model_module_version": "1.2.0",
            "_model_name": "LayoutModel",
            "_view_count": null,
            "_view_module": "@jupyter-widgets/base",
            "_view_module_version": "1.2.0",
            "_view_name": "LayoutView",
            "align_content": null,
            "align_items": null,
            "align_self": null,
            "border": null,
            "bottom": null,
            "display": null,
            "flex": null,
            "flex_flow": null,
            "grid_area": null,
            "grid_auto_columns": null,
            "grid_auto_flow": null,
            "grid_auto_rows": null,
            "grid_column": null,
            "grid_gap": null,
            "grid_row": null,
            "grid_template_areas": null,
            "grid_template_columns": null,
            "grid_template_rows": null,
            "height": null,
            "justify_content": null,
            "justify_items": null,
            "left": null,
            "margin": null,
            "max_height": null,
            "max_width": null,
            "min_height": null,
            "min_width": null,
            "object_fit": null,
            "object_position": null,
            "order": null,
            "overflow": null,
            "overflow_x": null,
            "overflow_y": null,
            "padding": null,
            "right": null,
            "top": null,
            "visibility": null,
            "width": null
          }
        },
        "73560f855a0b41ffb47e975d44c5685c": {
          "model_module": "@jupyter-widgets/controls",
          "model_name": "DescriptionStyleModel",
          "model_module_version": "1.5.0",
          "state": {
            "_model_module": "@jupyter-widgets/controls",
            "_model_module_version": "1.5.0",
            "_model_name": "DescriptionStyleModel",
            "_view_count": null,
            "_view_module": "@jupyter-widgets/base",
            "_view_module_version": "1.2.0",
            "_view_name": "StyleView",
            "description_width": ""
          }
        },
        "43e35cb7fa334534b29ab1af1ff2af5c": {
          "model_module": "@jupyter-widgets/base",
          "model_name": "LayoutModel",
          "model_module_version": "1.2.0",
          "state": {
            "_model_module": "@jupyter-widgets/base",
            "_model_module_version": "1.2.0",
            "_model_name": "LayoutModel",
            "_view_count": null,
            "_view_module": "@jupyter-widgets/base",
            "_view_module_version": "1.2.0",
            "_view_name": "LayoutView",
            "align_content": null,
            "align_items": null,
            "align_self": null,
            "border": null,
            "bottom": null,
            "display": null,
            "flex": "2",
            "flex_flow": null,
            "grid_area": null,
            "grid_auto_columns": null,
            "grid_auto_flow": null,
            "grid_auto_rows": null,
            "grid_column": null,
            "grid_gap": null,
            "grid_row": null,
            "grid_template_areas": null,
            "grid_template_columns": null,
            "grid_template_rows": null,
            "height": null,
            "justify_content": null,
            "justify_items": null,
            "left": null,
            "margin": null,
            "max_height": null,
            "max_width": null,
            "min_height": null,
            "min_width": null,
            "object_fit": null,
            "object_position": null,
            "order": null,
            "overflow": null,
            "overflow_x": null,
            "overflow_y": null,
            "padding": null,
            "right": null,
            "top": null,
            "visibility": null,
            "width": null
          }
        },
        "93bd460becf14574ab3ba4fa4ee7ffc0": {
          "model_module": "@jupyter-widgets/controls",
          "model_name": "ProgressStyleModel",
          "model_module_version": "1.5.0",
          "state": {
            "_model_module": "@jupyter-widgets/controls",
            "_model_module_version": "1.5.0",
            "_model_name": "ProgressStyleModel",
            "_view_count": null,
            "_view_module": "@jupyter-widgets/base",
            "_view_module_version": "1.2.0",
            "_view_name": "StyleView",
            "bar_color": null,
            "description_width": ""
          }
        },
        "b4afb2aa6fe14f47be887049e73c289f": {
          "model_module": "@jupyter-widgets/base",
          "model_name": "LayoutModel",
          "model_module_version": "1.2.0",
          "state": {
            "_model_module": "@jupyter-widgets/base",
            "_model_module_version": "1.2.0",
            "_model_name": "LayoutModel",
            "_view_count": null,
            "_view_module": "@jupyter-widgets/base",
            "_view_module_version": "1.2.0",
            "_view_name": "LayoutView",
            "align_content": null,
            "align_items": null,
            "align_self": null,
            "border": null,
            "bottom": null,
            "display": null,
            "flex": null,
            "flex_flow": null,
            "grid_area": null,
            "grid_auto_columns": null,
            "grid_auto_flow": null,
            "grid_auto_rows": null,
            "grid_column": null,
            "grid_gap": null,
            "grid_row": null,
            "grid_template_areas": null,
            "grid_template_columns": null,
            "grid_template_rows": null,
            "height": null,
            "justify_content": null,
            "justify_items": null,
            "left": null,
            "margin": null,
            "max_height": null,
            "max_width": null,
            "min_height": null,
            "min_width": null,
            "object_fit": null,
            "object_position": null,
            "order": null,
            "overflow": null,
            "overflow_x": null,
            "overflow_y": null,
            "padding": null,
            "right": null,
            "top": null,
            "visibility": null,
            "width": null
          }
        },
        "d1eae426fa0844ca8162d633fdddd17e": {
          "model_module": "@jupyter-widgets/controls",
          "model_name": "DescriptionStyleModel",
          "model_module_version": "1.5.0",
          "state": {
            "_model_module": "@jupyter-widgets/controls",
            "_model_module_version": "1.5.0",
            "_model_name": "DescriptionStyleModel",
            "_view_count": null,
            "_view_module": "@jupyter-widgets/base",
            "_view_module_version": "1.2.0",
            "_view_name": "StyleView",
            "description_width": ""
          }
        }
      }
    }
  },
  "nbformat": 4,
  "nbformat_minor": 0
}